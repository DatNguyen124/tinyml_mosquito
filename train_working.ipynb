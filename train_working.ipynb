{
 "cells": [
  {
   "cell_type": "code",
   "execution_count": 1,
   "metadata": {
    "ExecuteTime": {
     "end_time": "2021-11-30T21:42:36.514494Z",
     "start_time": "2021-11-30T21:42:28.820068Z"
    },
    "id": "rFvftaWIChCA"
   },
   "outputs": [],
   "source": [
    "import numpy as np\n",
    "import matplotlib.pyplot as plt\n",
    "import scipy.fftpack\n",
    "import librosa\n",
    "import librosa.display\n",
    "import IPython.display\n",
    "import os"
   ]
  },
  {
   "cell_type": "code",
   "execution_count": 2,
   "metadata": {},
   "outputs": [],
   "source": [
    "# Data processing & array operations\n",
    "import numpy as np\n",
    "import pandas as pd\n",
    "from sklearn.model_selection import train_test_split\n",
    "\n",
    "# Audio processing\n",
    "import librosa\n",
    "import librosa.display\n",
    "\n",
    "# Deep learning\n",
    "import tensorflow as tf\n",
    "from tensorflow.keras.models import Sequential\n",
    "from tensorflow.keras.layers import Dense, InputLayer, Dropout, Conv1D, Flatten, Reshape, MaxPooling1D, BatchNormalization\n",
    "from tensorflow.keras.optimizers import Adam\n",
    "from tensorflow.keras.callbacks import EarlyStopping, TensorBoard\n",
    "\n",
    "# Visualization\n",
    "import matplotlib.pyplot as plt\n",
    "import seaborn as sns\n",
    "\n",
    "# Utilities\n",
    "import os\n",
    "from datetime import datetime\n",
    "from tqdm import tqdm\n",
    "import IPython.display"
   ]
  },
  {
   "cell_type": "code",
   "execution_count": 3,
   "metadata": {},
   "outputs": [],
   "source": [
    "# Cell 1: Import required libraries\n",
    "import os\n",
    "import numpy as np\n",
    "import librosa\n",
    "import random\n",
    "from sklearn.model_selection import train_test_split\n",
    "import tensorflow as tf\n",
    "from datetime import datetime\n",
    "import random\n"
   ]
  },
  {
   "cell_type": "code",
   "execution_count": 4,
   "metadata": {},
   "outputs": [
    {
     "name": "stderr",
     "output_type": "stream",
     "text": [
      "Processing aedes: 100%|██████████| 31/31 [00:07<00:00,  3.96it/s]\n",
      "Processing anopheles: 100%|██████████| 31/31 [00:09<00:00,  3.32it/s]\n",
      "Processing culex: 100%|██████████| 34/34 [00:09<00:00,  3.54it/s]\n",
      "Processing noise: 100%|██████████| 253/253 [00:04<00:00, 62.98it/s] \n"
     ]
    },
    {
     "name": "stdout",
     "output_type": "stream",
     "text": [
      "Feature matrix shape: (21837, 5135)\n",
      "Labels shape: (21837,)\n"
     ]
    }
   ],
   "source": [
    "import os\n",
    "import librosa\n",
    "import numpy as np\n",
    "from tqdm import tqdm\n",
    "\n",
    "def load_audio_files(base_path):\n",
    "    # Dictionary to store audio data and labels\n",
    "    data = {\n",
    "        'features': [],\n",
    "        'labels': []\n",
    "    }\n",
    "    \n",
    "    # Update label mapping to match the new class structure\n",
    "    label_map = {\n",
    "        'aedes': 0,\n",
    "        'anopheles': 1,\n",
    "        'culex': 2,\n",
    "        'noise': 3\n",
    "    }\n",
    "\n",
    "    # Loop through each class folder\n",
    "    for class_name in label_map.keys():\n",
    "        class_path = os.path.join(base_path, class_name)\n",
    "        \n",
    "        # Skip if not a directory\n",
    "        if not os.path.isdir(class_path):\n",
    "            print(f\"Skipping {class_name} as it is not a directory.\")\n",
    "            continue\n",
    "            \n",
    "        # Process all `.wav` files in the folder (no subfolders)\n",
    "        for file in tqdm(os.listdir(class_path), desc=f\"Processing {class_name}\"):\n",
    "            if file.endswith('.wav'):\n",
    "                file_path = os.path.join(class_path, file)\n",
    "                try:\n",
    "                    # Load audio file\n",
    "                    audio, sr = librosa.load(file_path, sr=16000)  # Resample to 16kHz\n",
    "                    \n",
    "                    # Split audio into 1-second windows with a 250 ms stride\n",
    "                    window_size = sr  # 1 second\n",
    "                    stride = int(0.25 * sr)  # 250 ms\n",
    "                    num_windows = (len(audio) - window_size) // stride + 1\n",
    "                    \n",
    "                    for i in range(num_windows):\n",
    "                        start = i * stride\n",
    "                        end = start + window_size\n",
    "                        window = audio[start:end]\n",
    "                        \n",
    "                        # Generate spectrogram with specified parameters\n",
    "                        n_fft = int(0.025 * sr)  # Frame length: 25 ms\n",
    "                        hop_length = int(0.0125 * sr)  # Frame stride: 12.5 ms\n",
    "                        S = librosa.stft(window, n_fft=n_fft, hop_length=hop_length)\n",
    "                        S_db = librosa.amplitude_to_db(abs(S), ref=np.max)\n",
    "                        \n",
    "                        # Apply noise filtering\n",
    "                        S_db = np.where(S_db < -52, -52, S_db)\n",
    "                        \n",
    "                        # Flatten the spectrogram\n",
    "                        S_db_flat = S_db.flatten()\n",
    "                        \n",
    "                        # Resize/pad if needed to ensure consistent dimensions\n",
    "                        target_length = 5135  # Match your original input size\n",
    "                        if len(S_db_flat) > target_length:\n",
    "                            S_db_flat = S_db_flat[:target_length]\n",
    "                        elif len(S_db_flat) < target_length:\n",
    "                            pad_width = target_length - len(S_db_flat)\n",
    "                            S_db_flat = np.pad(S_db_flat, (0, pad_width))\n",
    "                            \n",
    "                        # Add to dataset\n",
    "                        data['features'].append(S_db_flat)\n",
    "                        data['labels'].append(label_map[class_name])\n",
    "                        \n",
    "                except Exception as e:\n",
    "                    print(f\"Error processing {file_path}: {str(e)}\")\n",
    "                    continue\n",
    "\n",
    "    # Convert to numpy arrays\n",
    "    X = np.array(data['features'])\n",
    "    Y = np.array(data['labels'])\n",
    "    \n",
    "    return X, Y\n",
    "\n",
    "# Use the function\n",
    "base_path = \"./datasets/Abuzz_Preprocessed\"  # Updated path to your dataset location\n",
    "X, Y = load_audio_files(base_path)\n",
    "\n",
    "# Check the shapes\n",
    "print(\"Feature matrix shape:\", X.shape)\n",
    "print(\"Labels shape:\", Y.shape)\n"
   ]
  },
  {
   "cell_type": "code",
   "execution_count": 5,
   "metadata": {},
   "outputs": [
    {
     "data": {
      "text/plain": [
       "5135"
      ]
     },
     "execution_count": 5,
     "metadata": {},
     "output_type": "execute_result"
    }
   ],
   "source": [
    "image = X[10]\n",
    "img_length = image.shape[0]\n",
    "img_length"
   ]
  },
  {
   "cell_type": "code",
   "execution_count": 6,
   "metadata": {},
   "outputs": [
    {
     "name": "stdout",
     "output_type": "stream",
     "text": [
      "(79, 65)\n"
     ]
    }
   ],
   "source": [
    "# Set the number of columns\n",
    "columns = 65\n",
    "rows = int(img_length / columns)\n",
    "image = np.reshape(image, (rows, columns))\n",
    "print(image.shape)  # Output should be (125, 41)"
   ]
  },
  {
   "cell_type": "code",
   "execution_count": 7,
   "metadata": {},
   "outputs": [
    {
     "data": {
      "image/png": "[encoded data removed]",
      "text/plain": [
       "<Figure size 1200x600 with 2 Axes>"
      ]
     },
     "metadata": {},
     "output_type": "display_data"
    }
   ],
   "source": [
    "import matplotlib.pyplot as plt\n",
    "import seaborn as sns\n",
    "plt.figure(figsize=(12,6))\n",
    "#sns.heatmap(image.T)\n",
    "ax = sns.heatmap(image.T)\n",
    "ax.invert_yaxis()\n",
    "plt.title('1D-image - Spectogram of 1-second sample');"
   ]
  },
  {
   "cell_type": "code",
   "execution_count": 8,
   "metadata": {},
   "outputs": [
    {
     "name": "stdout",
     "output_type": "stream",
     "text": [
      "Training set shape: (13102, 5135) (13102, 4)\n",
      "Validation set shape: (4367, 5135) (4367, 4)\n",
      "Test set shape: (4368, 5135) (4368, 4)\n"
     ]
    }
   ],
   "source": [
    "import random\n",
    "import numpy as np\n",
    "import tensorflow as tf\n",
    "from sklearn.model_selection import train_test_split\n",
    "\n",
    "# Set random seed for reproducibility\n",
    "RANDOM_SEED = 42\n",
    "random.seed(RANDOM_SEED)\n",
    "np.random.seed(RANDOM_SEED)\n",
    "tf.random.set_seed(RANDOM_SEED)\n",
    "\n",
    "# Define the classes\n",
    "classes_values = [\"aedes\", \"anopheles\", \"culex\", \"noise\"]\n",
    "classes = len(classes_values)\n",
    "\n",
    "# Convert labels to one-hot encoding\n",
    "Y = tf.keras.utils.to_categorical(Y, classes)\n",
    "\n",
    "# Split data into train, validation, and test sets\n",
    "X_train, X_temp, Y_train, Y_temp = train_test_split(X, Y, test_size=0.4, random_state=RANDOM_SEED)\n",
    "X_val, X_test, Y_val, Y_test = train_test_split(X_temp, Y_temp, test_size=0.5, random_state=RANDOM_SEED)\n",
    "\n",
    "# Prepare the data for training\n",
    "input_length = X_train[0].shape[0]\n",
    "train_dataset = tf.data.Dataset.from_tensor_slices((X_train, Y_train))\n",
    "validation_dataset = tf.data.Dataset.from_tensor_slices((X_val, Y_val))\n",
    "test_dataset = tf.data.Dataset.from_tensor_slices((X_test, Y_test))\n",
    "\n",
    "# Check the shapes\n",
    "print(\"Training set shape:\", X_train.shape, Y_train.shape)\n",
    "print(\"Validation set shape:\", X_val.shape, Y_val.shape)\n",
    "print(\"Test set shape:\", X_test.shape, Y_test.shape)"
   ]
  },
  {
   "cell_type": "code",
   "execution_count": 9,
   "metadata": {
    "ExecuteTime": {
     "end_time": "2021-11-30T22:53:03.796815Z",
     "start_time": "2021-11-30T22:53:03.793884Z"
    },
    "id": "wp6gglY6ITnH"
   },
   "outputs": [],
   "source": [
    "from tensorflow.keras.callbacks import EarlyStopping\n",
    "early_stop = EarlyStopping(monitor='val_loss', \n",
    "                           mode='min', \n",
    "                           verbose=1, \n",
    "                           patience=10)\n",
    "\n",
    "callbacks = [early_stop]"
   ]
  },
  {
   "cell_type": "markdown",
   "metadata": {
    "id": "0fg94m7DITnH"
   },
   "source": [
    "Train the model:"
   ]
  },
  {
   "cell_type": "code",
   "execution_count": 12,
   "metadata": {},
   "outputs": [
    {
     "name": "stderr",
     "output_type": "stream",
     "text": [
      "c:\\Users\\nguye\\AppData\\Local\\Programs\\Python\\Python312\\Lib\\site-packages\\keras\\src\\layers\\reshaping\\reshape.py:39: UserWarning: Do not pass an `input_shape`/`input_dim` argument to a layer. When using Sequential models, prefer using an `Input(shape)` object as the first layer in the model instead.\n",
      "  super().__init__(**kwargs)\n"
     ]
    },
    {
     "data": {
      "text/html": [
       "<pre style=\"white-space:pre;overflow-x:auto;line-height:normal;font-family:Menlo,'DejaVu Sans Mono',consolas,'Courier New',monospace\"><span style=\"font-weight: bold\">Model: \"sequential_1\"</span>\n",
       "</pre>\n"
      ],
      "text/plain": [
       "\u001b[1mModel: \"sequential_1\"\u001b[0m\n"
      ]
     },
     "metadata": {},
     "output_type": "display_data"
    },
    {
     "data": {
      "text/html": [
       "<pre style=\"white-space:pre;overflow-x:auto;line-height:normal;font-family:Menlo,'DejaVu Sans Mono',consolas,'Courier New',monospace\">┏━━━━━━━━━━━━━━━━━━━━━━━━━━━━━━━━━┳━━━━━━━━━━━━━━━━━━━━━━━━┳━━━━━━━━━━━━━━━┓\n",
       "┃<span style=\"font-weight: bold\"> Layer (type)                    </span>┃<span style=\"font-weight: bold\"> Output Shape           </span>┃<span style=\"font-weight: bold\">       Param # </span>┃\n",
       "┡━━━━━━━━━━━━━━━━━━━━━━━━━━━━━━━━━╇━━━━━━━━━━━━━━━━━━━━━━━━╇━━━━━━━━━━━━━━━┩\n",
       "│ reshape (<span style=\"color: #0087ff; text-decoration-color: #0087ff\">Reshape</span>)               │ (<span style=\"color: #00d7ff; text-decoration-color: #00d7ff\">None</span>, <span style=\"color: #00af00; text-decoration-color: #00af00\">79</span>, <span style=\"color: #00af00; text-decoration-color: #00af00\">65</span>)         │             <span style=\"color: #00af00; text-decoration-color: #00af00\">0</span> │\n",
       "├─────────────────────────────────┼────────────────────────┼───────────────┤\n",
       "│ conv1d (<span style=\"color: #0087ff; text-decoration-color: #0087ff\">Conv1D</span>)                 │ (<span style=\"color: #00d7ff; text-decoration-color: #00d7ff\">None</span>, <span style=\"color: #00af00; text-decoration-color: #00af00\">79</span>, <span style=\"color: #00af00; text-decoration-color: #00af00\">32</span>)         │         <span style=\"color: #00af00; text-decoration-color: #00af00\">6,272</span> │\n",
       "├─────────────────────────────────┼────────────────────────┼───────────────┤\n",
       "│ max_pooling1d (<span style=\"color: #0087ff; text-decoration-color: #0087ff\">MaxPooling1D</span>)    │ (<span style=\"color: #00d7ff; text-decoration-color: #00d7ff\">None</span>, <span style=\"color: #00af00; text-decoration-color: #00af00\">40</span>, <span style=\"color: #00af00; text-decoration-color: #00af00\">32</span>)         │             <span style=\"color: #00af00; text-decoration-color: #00af00\">0</span> │\n",
       "├─────────────────────────────────┼────────────────────────┼───────────────┤\n",
       "│ conv1d_1 (<span style=\"color: #0087ff; text-decoration-color: #0087ff\">Conv1D</span>)               │ (<span style=\"color: #00d7ff; text-decoration-color: #00d7ff\">None</span>, <span style=\"color: #00af00; text-decoration-color: #00af00\">40</span>, <span style=\"color: #00af00; text-decoration-color: #00af00\">64</span>)         │         <span style=\"color: #00af00; text-decoration-color: #00af00\">6,208</span> │\n",
       "├─────────────────────────────────┼────────────────────────┼───────────────┤\n",
       "│ max_pooling1d_1 (<span style=\"color: #0087ff; text-decoration-color: #0087ff\">MaxPooling1D</span>)  │ (<span style=\"color: #00d7ff; text-decoration-color: #00d7ff\">None</span>, <span style=\"color: #00af00; text-decoration-color: #00af00\">20</span>, <span style=\"color: #00af00; text-decoration-color: #00af00\">64</span>)         │             <span style=\"color: #00af00; text-decoration-color: #00af00\">0</span> │\n",
       "├─────────────────────────────────┼────────────────────────┼───────────────┤\n",
       "│ conv1d_2 (<span style=\"color: #0087ff; text-decoration-color: #0087ff\">Conv1D</span>)               │ (<span style=\"color: #00d7ff; text-decoration-color: #00d7ff\">None</span>, <span style=\"color: #00af00; text-decoration-color: #00af00\">20</span>, <span style=\"color: #00af00; text-decoration-color: #00af00\">64</span>)         │        <span style=\"color: #00af00; text-decoration-color: #00af00\">12,352</span> │\n",
       "├─────────────────────────────────┼────────────────────────┼───────────────┤\n",
       "│ max_pooling1d_2 (<span style=\"color: #0087ff; text-decoration-color: #0087ff\">MaxPooling1D</span>)  │ (<span style=\"color: #00d7ff; text-decoration-color: #00d7ff\">None</span>, <span style=\"color: #00af00; text-decoration-color: #00af00\">10</span>, <span style=\"color: #00af00; text-decoration-color: #00af00\">64</span>)         │             <span style=\"color: #00af00; text-decoration-color: #00af00\">0</span> │\n",
       "├─────────────────────────────────┼────────────────────────┼───────────────┤\n",
       "│ flatten (<span style=\"color: #0087ff; text-decoration-color: #0087ff\">Flatten</span>)               │ (<span style=\"color: #00d7ff; text-decoration-color: #00d7ff\">None</span>, <span style=\"color: #00af00; text-decoration-color: #00af00\">640</span>)            │             <span style=\"color: #00af00; text-decoration-color: #00af00\">0</span> │\n",
       "├─────────────────────────────────┼────────────────────────┼───────────────┤\n",
       "│ dropout (<span style=\"color: #0087ff; text-decoration-color: #0087ff\">Dropout</span>)               │ (<span style=\"color: #00d7ff; text-decoration-color: #00d7ff\">None</span>, <span style=\"color: #00af00; text-decoration-color: #00af00\">640</span>)            │             <span style=\"color: #00af00; text-decoration-color: #00af00\">0</span> │\n",
       "├─────────────────────────────────┼────────────────────────┼───────────────┤\n",
       "│ y_pred (<span style=\"color: #0087ff; text-decoration-color: #0087ff\">Dense</span>)                  │ (<span style=\"color: #00d7ff; text-decoration-color: #00d7ff\">None</span>, <span style=\"color: #00af00; text-decoration-color: #00af00\">5</span>)              │         <span style=\"color: #00af00; text-decoration-color: #00af00\">3,205</span> │\n",
       "└─────────────────────────────────┴────────────────────────┴───────────────┘\n",
       "</pre>\n"
      ],
      "text/plain": [
       "┏━━━━━━━━━━━━━━━━━━━━━━━━━━━━━━━━━┳━━━━━━━━━━━━━━━━━━━━━━━━┳━━━━━━━━━━━━━━━┓\n",
       "┃\u001b[1m \u001b[0m\u001b[1mLayer (type)                   \u001b[0m\u001b[1m \u001b[0m┃\u001b[1m \u001b[0m\u001b[1mOutput Shape          \u001b[0m\u001b[1m \u001b[0m┃\u001b[1m \u001b[0m\u001b[1m      Param #\u001b[0m\u001b[1m \u001b[0m┃\n",
       "┡━━━━━━━━━━━━━━━━━━━━━━━━━━━━━━━━━╇━━━━━━━━━━━━━━━━━━━━━━━━╇━━━━━━━━━━━━━━━┩\n",
       "│ reshape (\u001b[38;5;33mReshape\u001b[0m)               │ (\u001b[38;5;45mNone\u001b[0m, \u001b[38;5;34m79\u001b[0m, \u001b[38;5;34m65\u001b[0m)         │             \u001b[38;5;34m0\u001b[0m │\n",
       "├─────────────────────────────────┼────────────────────────┼───────────────┤\n",
       "│ conv1d (\u001b[38;5;33mConv1D\u001b[0m)                 │ (\u001b[38;5;45mNone\u001b[0m, \u001b[38;5;34m79\u001b[0m, \u001b[38;5;34m32\u001b[0m)         │         \u001b[38;5;34m6,272\u001b[0m │\n",
       "├─────────────────────────────────┼────────────────────────┼───────────────┤\n",
       "│ max_pooling1d (\u001b[38;5;33mMaxPooling1D\u001b[0m)    │ (\u001b[38;5;45mNone\u001b[0m, \u001b[38;5;34m40\u001b[0m, \u001b[38;5;34m32\u001b[0m)         │             \u001b[38;5;34m0\u001b[0m │\n",
       "├─────────────────────────────────┼────────────────────────┼───────────────┤\n",
       "│ conv1d_1 (\u001b[38;5;33mConv1D\u001b[0m)               │ (\u001b[38;5;45mNone\u001b[0m, \u001b[38;5;34m40\u001b[0m, \u001b[38;5;34m64\u001b[0m)         │         \u001b[38;5;34m6,208\u001b[0m │\n",
       "├─────────────────────────────────┼────────────────────────┼───────────────┤\n",
       "│ max_pooling1d_1 (\u001b[38;5;33mMaxPooling1D\u001b[0m)  │ (\u001b[38;5;45mNone\u001b[0m, \u001b[38;5;34m20\u001b[0m, \u001b[38;5;34m64\u001b[0m)         │             \u001b[38;5;34m0\u001b[0m │\n",
       "├─────────────────────────────────┼────────────────────────┼───────────────┤\n",
       "│ conv1d_2 (\u001b[38;5;33mConv1D\u001b[0m)               │ (\u001b[38;5;45mNone\u001b[0m, \u001b[38;5;34m20\u001b[0m, \u001b[38;5;34m64\u001b[0m)         │        \u001b[38;5;34m12,352\u001b[0m │\n",
       "├─────────────────────────────────┼────────────────────────┼───────────────┤\n",
       "│ max_pooling1d_2 (\u001b[38;5;33mMaxPooling1D\u001b[0m)  │ (\u001b[38;5;45mNone\u001b[0m, \u001b[38;5;34m10\u001b[0m, \u001b[38;5;34m64\u001b[0m)         │             \u001b[38;5;34m0\u001b[0m │\n",
       "├─────────────────────────────────┼────────────────────────┼───────────────┤\n",
       "│ flatten (\u001b[38;5;33mFlatten\u001b[0m)               │ (\u001b[38;5;45mNone\u001b[0m, \u001b[38;5;34m640\u001b[0m)            │             \u001b[38;5;34m0\u001b[0m │\n",
       "├─────────────────────────────────┼────────────────────────┼───────────────┤\n",
       "│ dropout (\u001b[38;5;33mDropout\u001b[0m)               │ (\u001b[38;5;45mNone\u001b[0m, \u001b[38;5;34m640\u001b[0m)            │             \u001b[38;5;34m0\u001b[0m │\n",
       "├─────────────────────────────────┼────────────────────────┼───────────────┤\n",
       "│ y_pred (\u001b[38;5;33mDense\u001b[0m)                  │ (\u001b[38;5;45mNone\u001b[0m, \u001b[38;5;34m5\u001b[0m)              │         \u001b[38;5;34m3,205\u001b[0m │\n",
       "└─────────────────────────────────┴────────────────────────┴───────────────┘\n"
      ]
     },
     "metadata": {},
     "output_type": "display_data"
    },
    {
     "data": {
      "text/html": [
       "<pre style=\"white-space:pre;overflow-x:auto;line-height:normal;font-family:Menlo,'DejaVu Sans Mono',consolas,'Courier New',monospace\"><span style=\"font-weight: bold\"> Total params: </span><span style=\"color: #00af00; text-decoration-color: #00af00\">28,037</span> (109.52 KB)\n",
       "</pre>\n"
      ],
      "text/plain": [
       "\u001b[1m Total params: \u001b[0m\u001b[38;5;34m28,037\u001b[0m (109.52 KB)\n"
      ]
     },
     "metadata": {},
     "output_type": "display_data"
    },
    {
     "data": {
      "text/html": [
       "<pre style=\"white-space:pre;overflow-x:auto;line-height:normal;font-family:Menlo,'DejaVu Sans Mono',consolas,'Courier New',monospace\"><span style=\"font-weight: bold\"> Trainable params: </span><span style=\"color: #00af00; text-decoration-color: #00af00\">28,037</span> (109.52 KB)\n",
       "</pre>\n"
      ],
      "text/plain": [
       "\u001b[1m Trainable params: \u001b[0m\u001b[38;5;34m28,037\u001b[0m (109.52 KB)\n"
      ]
     },
     "metadata": {},
     "output_type": "display_data"
    },
    {
     "data": {
      "text/html": [
       "<pre style=\"white-space:pre;overflow-x:auto;line-height:normal;font-family:Menlo,'DejaVu Sans Mono',consolas,'Courier New',monospace\"><span style=\"font-weight: bold\"> Non-trainable params: </span><span style=\"color: #00af00; text-decoration-color: #00af00\">0</span> (0.00 B)\n",
       "</pre>\n"
      ],
      "text/plain": [
       "\u001b[1m Non-trainable params: \u001b[0m\u001b[38;5;34m0\u001b[0m (0.00 B)\n"
      ]
     },
     "metadata": {},
     "output_type": "display_data"
    }
   ],
   "source": [
    "# MODEL WITH REGULARIZATION\n",
    "\n",
    "import tensorflow as tf\n",
    "from tensorflow.keras.models import Sequential\n",
    "from tensorflow.keras.layers import Dense, InputLayer, Dropout, Conv1D, SeparableConv1D, Flatten, Reshape, MaxPooling1D\n",
    "from tensorflow.keras.optimizers import Adam\n",
    "from tensorflow.keras.regularizers import l2\n",
    "\n",
    "# Model architecture with regularization\n",
    "model = Sequential()\n",
    "model.add(Reshape((int(input_length / 65), 65), input_shape=(input_length, )))\n",
    "model.add(Conv1D(32, kernel_size=3, activation='relu', padding='same', kernel_regularizer=l2(0.001)))\n",
    "model.add(MaxPooling1D(pool_size=2, strides=2, padding='same'))\n",
    "model.add(Conv1D(64, kernel_size=3, activation='relu', padding='same', kernel_regularizer=l2(0.001)))\n",
    "model.add(MaxPooling1D(pool_size=2, strides=2, padding='same'))\n",
    "model.add(Conv1D(64, kernel_size=3, activation='relu', padding='same', kernel_regularizer=l2(0.001)))  # Using Conv1D instead of SeparableConv1D\n",
    "model.add(MaxPooling1D(pool_size=2, strides=2, padding='same'))\n",
    "model.add(Flatten())\n",
    "model.add(Dropout(0.3))\n",
    "model.add(Dense(classes, activation='softmax', name='y_pred'))\n",
    "model.summary()"
   ]
  },
  {
   "cell_type": "code",
   "execution_count": 10,
   "metadata": {
    "ExecuteTime": {
     "end_time": "2021-11-30T22:53:29.345315Z",
     "start_time": "2021-11-30T22:53:29.161345Z"
    },
    "colab": {
     "base_uri": "https://localhost:8080/"
    },
    "id": "yl_OGuapITnH",
    "outputId": "20e0c0e6-73c1-4f69-ac5d-4de5f15d0389"
   },
   "outputs": [
    {
     "name": "stderr",
     "output_type": "stream",
     "text": [
      "c:\\Users\\nguye\\AppData\\Local\\Programs\\Python\\Python312\\Lib\\site-packages\\keras\\src\\layers\\reshaping\\reshape.py:39: UserWarning: Do not pass an `input_shape`/`input_dim` argument to a layer. When using Sequential models, prefer using an `Input(shape)` object as the first layer in the model instead.\n",
      "  super().__init__(**kwargs)\n"
     ]
    },
    {
     "data": {
      "text/html": [
       "<pre style=\"white-space:pre;overflow-x:auto;line-height:normal;font-family:Menlo,'DejaVu Sans Mono',consolas,'Courier New',monospace\"><span style=\"font-weight: bold\">Model: \"sequential\"</span>\n",
       "</pre>\n"
      ],
      "text/plain": [
       "\u001b[1mModel: \"sequential\"\u001b[0m\n"
      ]
     },
     "metadata": {},
     "output_type": "display_data"
    },
    {
     "data": {
      "text/html": [
       "<pre style=\"white-space:pre;overflow-x:auto;line-height:normal;font-family:Menlo,'DejaVu Sans Mono',consolas,'Courier New',monospace\">┏━━━━━━━━━━━━━━━━━━━━━━━━━━━━━━━━━┳━━━━━━━━━━━━━━━━━━━━━━━━┳━━━━━━━━━━━━━━━┓\n",
       "┃<span style=\"font-weight: bold\"> Layer (type)                    </span>┃<span style=\"font-weight: bold\"> Output Shape           </span>┃<span style=\"font-weight: bold\">       Param # </span>┃\n",
       "┡━━━━━━━━━━━━━━━━━━━━━━━━━━━━━━━━━╇━━━━━━━━━━━━━━━━━━━━━━━━╇━━━━━━━━━━━━━━━┩\n",
       "│ reshape (<span style=\"color: #0087ff; text-decoration-color: #0087ff\">Reshape</span>)               │ (<span style=\"color: #00d7ff; text-decoration-color: #00d7ff\">None</span>, <span style=\"color: #00af00; text-decoration-color: #00af00\">79</span>, <span style=\"color: #00af00; text-decoration-color: #00af00\">65</span>)         │             <span style=\"color: #00af00; text-decoration-color: #00af00\">0</span> │\n",
       "├─────────────────────────────────┼────────────────────────┼───────────────┤\n",
       "│ conv1d (<span style=\"color: #0087ff; text-decoration-color: #0087ff\">Conv1D</span>)                 │ (<span style=\"color: #00d7ff; text-decoration-color: #00d7ff\">None</span>, <span style=\"color: #00af00; text-decoration-color: #00af00\">79</span>, <span style=\"color: #00af00; text-decoration-color: #00af00\">32</span>)         │         <span style=\"color: #00af00; text-decoration-color: #00af00\">6,272</span> │\n",
       "├─────────────────────────────────┼────────────────────────┼───────────────┤\n",
       "│ max_pooling1d (<span style=\"color: #0087ff; text-decoration-color: #0087ff\">MaxPooling1D</span>)    │ (<span style=\"color: #00d7ff; text-decoration-color: #00d7ff\">None</span>, <span style=\"color: #00af00; text-decoration-color: #00af00\">40</span>, <span style=\"color: #00af00; text-decoration-color: #00af00\">32</span>)         │             <span style=\"color: #00af00; text-decoration-color: #00af00\">0</span> │\n",
       "├─────────────────────────────────┼────────────────────────┼───────────────┤\n",
       "│ conv1d_1 (<span style=\"color: #0087ff; text-decoration-color: #0087ff\">Conv1D</span>)               │ (<span style=\"color: #00d7ff; text-decoration-color: #00d7ff\">None</span>, <span style=\"color: #00af00; text-decoration-color: #00af00\">40</span>, <span style=\"color: #00af00; text-decoration-color: #00af00\">64</span>)         │         <span style=\"color: #00af00; text-decoration-color: #00af00\">6,208</span> │\n",
       "├─────────────────────────────────┼────────────────────────┼───────────────┤\n",
       "│ max_pooling1d_1 (<span style=\"color: #0087ff; text-decoration-color: #0087ff\">MaxPooling1D</span>)  │ (<span style=\"color: #00d7ff; text-decoration-color: #00d7ff\">None</span>, <span style=\"color: #00af00; text-decoration-color: #00af00\">20</span>, <span style=\"color: #00af00; text-decoration-color: #00af00\">64</span>)         │             <span style=\"color: #00af00; text-decoration-color: #00af00\">0</span> │\n",
       "├─────────────────────────────────┼────────────────────────┼───────────────┤\n",
       "│ flatten (<span style=\"color: #0087ff; text-decoration-color: #0087ff\">Flatten</span>)               │ (<span style=\"color: #00d7ff; text-decoration-color: #00d7ff\">None</span>, <span style=\"color: #00af00; text-decoration-color: #00af00\">1280</span>)           │             <span style=\"color: #00af00; text-decoration-color: #00af00\">0</span> │\n",
       "├─────────────────────────────────┼────────────────────────┼───────────────┤\n",
       "│ dropout (<span style=\"color: #0087ff; text-decoration-color: #0087ff\">Dropout</span>)               │ (<span style=\"color: #00d7ff; text-decoration-color: #00d7ff\">None</span>, <span style=\"color: #00af00; text-decoration-color: #00af00\">1280</span>)           │             <span style=\"color: #00af00; text-decoration-color: #00af00\">0</span> │\n",
       "├─────────────────────────────────┼────────────────────────┼───────────────┤\n",
       "│ y_pred (<span style=\"color: #0087ff; text-decoration-color: #0087ff\">Dense</span>)                  │ (<span style=\"color: #00d7ff; text-decoration-color: #00d7ff\">None</span>, <span style=\"color: #00af00; text-decoration-color: #00af00\">4</span>)              │         <span style=\"color: #00af00; text-decoration-color: #00af00\">5,124</span> │\n",
       "└─────────────────────────────────┴────────────────────────┴───────────────┘\n",
       "</pre>\n"
      ],
      "text/plain": [
       "┏━━━━━━━━━━━━━━━━━━━━━━━━━━━━━━━━━┳━━━━━━━━━━━━━━━━━━━━━━━━┳━━━━━━━━━━━━━━━┓\n",
       "┃\u001b[1m \u001b[0m\u001b[1mLayer (type)                   \u001b[0m\u001b[1m \u001b[0m┃\u001b[1m \u001b[0m\u001b[1mOutput Shape          \u001b[0m\u001b[1m \u001b[0m┃\u001b[1m \u001b[0m\u001b[1m      Param #\u001b[0m\u001b[1m \u001b[0m┃\n",
       "┡━━━━━━━━━━━━━━━━━━━━━━━━━━━━━━━━━╇━━━━━━━━━━━━━━━━━━━━━━━━╇━━━━━━━━━━━━━━━┩\n",
       "│ reshape (\u001b[38;5;33mReshape\u001b[0m)               │ (\u001b[38;5;45mNone\u001b[0m, \u001b[38;5;34m79\u001b[0m, \u001b[38;5;34m65\u001b[0m)         │             \u001b[38;5;34m0\u001b[0m │\n",
       "├─────────────────────────────────┼────────────────────────┼───────────────┤\n",
       "│ conv1d (\u001b[38;5;33mConv1D\u001b[0m)                 │ (\u001b[38;5;45mNone\u001b[0m, \u001b[38;5;34m79\u001b[0m, \u001b[38;5;34m32\u001b[0m)         │         \u001b[38;5;34m6,272\u001b[0m │\n",
       "├─────────────────────────────────┼────────────────────────┼───────────────┤\n",
       "│ max_pooling1d (\u001b[38;5;33mMaxPooling1D\u001b[0m)    │ (\u001b[38;5;45mNone\u001b[0m, \u001b[38;5;34m40\u001b[0m, \u001b[38;5;34m32\u001b[0m)         │             \u001b[38;5;34m0\u001b[0m │\n",
       "├─────────────────────────────────┼────────────────────────┼───────────────┤\n",
       "│ conv1d_1 (\u001b[38;5;33mConv1D\u001b[0m)               │ (\u001b[38;5;45mNone\u001b[0m, \u001b[38;5;34m40\u001b[0m, \u001b[38;5;34m64\u001b[0m)         │         \u001b[38;5;34m6,208\u001b[0m │\n",
       "├─────────────────────────────────┼────────────────────────┼───────────────┤\n",
       "│ max_pooling1d_1 (\u001b[38;5;33mMaxPooling1D\u001b[0m)  │ (\u001b[38;5;45mNone\u001b[0m, \u001b[38;5;34m20\u001b[0m, \u001b[38;5;34m64\u001b[0m)         │             \u001b[38;5;34m0\u001b[0m │\n",
       "├─────────────────────────────────┼────────────────────────┼───────────────┤\n",
       "│ flatten (\u001b[38;5;33mFlatten\u001b[0m)               │ (\u001b[38;5;45mNone\u001b[0m, \u001b[38;5;34m1280\u001b[0m)           │             \u001b[38;5;34m0\u001b[0m │\n",
       "├─────────────────────────────────┼────────────────────────┼───────────────┤\n",
       "│ dropout (\u001b[38;5;33mDropout\u001b[0m)               │ (\u001b[38;5;45mNone\u001b[0m, \u001b[38;5;34m1280\u001b[0m)           │             \u001b[38;5;34m0\u001b[0m │\n",
       "├─────────────────────────────────┼────────────────────────┼───────────────┤\n",
       "│ y_pred (\u001b[38;5;33mDense\u001b[0m)                  │ (\u001b[38;5;45mNone\u001b[0m, \u001b[38;5;34m4\u001b[0m)              │         \u001b[38;5;34m5,124\u001b[0m │\n",
       "└─────────────────────────────────┴────────────────────────┴───────────────┘\n"
      ]
     },
     "metadata": {},
     "output_type": "display_data"
    },
    {
     "data": {
      "text/html": [
       "<pre style=\"white-space:pre;overflow-x:auto;line-height:normal;font-family:Menlo,'DejaVu Sans Mono',consolas,'Courier New',monospace\"><span style=\"font-weight: bold\"> Total params: </span><span style=\"color: #00af00; text-decoration-color: #00af00\">17,604</span> (68.77 KB)\n",
       "</pre>\n"
      ],
      "text/plain": [
       "\u001b[1m Total params: \u001b[0m\u001b[38;5;34m17,604\u001b[0m (68.77 KB)\n"
      ]
     },
     "metadata": {},
     "output_type": "display_data"
    },
    {
     "data": {
      "text/html": [
       "<pre style=\"white-space:pre;overflow-x:auto;line-height:normal;font-family:Menlo,'DejaVu Sans Mono',consolas,'Courier New',monospace\"><span style=\"font-weight: bold\"> Trainable params: </span><span style=\"color: #00af00; text-decoration-color: #00af00\">17,604</span> (68.77 KB)\n",
       "</pre>\n"
      ],
      "text/plain": [
       "\u001b[1m Trainable params: \u001b[0m\u001b[38;5;34m17,604\u001b[0m (68.77 KB)\n"
      ]
     },
     "metadata": {},
     "output_type": "display_data"
    },
    {
     "data": {
      "text/html": [
       "<pre style=\"white-space:pre;overflow-x:auto;line-height:normal;font-family:Menlo,'DejaVu Sans Mono',consolas,'Courier New',monospace\"><span style=\"font-weight: bold\"> Non-trainable params: </span><span style=\"color: #00af00; text-decoration-color: #00af00\">0</span> (0.00 B)\n",
       "</pre>\n"
      ],
      "text/plain": [
       "\u001b[1m Non-trainable params: \u001b[0m\u001b[38;5;34m0\u001b[0m (0.00 B)\n"
      ]
     },
     "metadata": {},
     "output_type": "display_data"
    }
   ],
   "source": [
    "# MODEL WITH NO REGULARIZATION\n",
    "\n",
    "import tensorflow as tf\n",
    "from tensorflow.keras.models import Sequential\n",
    "from tensorflow.keras.layers import Dense, InputLayer, Dropout, Conv1D, Conv2D, Flatten, Reshape, MaxPooling1D, MaxPooling2D, BatchNormalization, TimeDistributed\n",
    "from tensorflow.keras.optimizers import Adam\n",
    "\n",
    "# model architecture\n",
    "model = Sequential()\n",
    "model.add(Reshape((int(input_length / 65), 65), input_shape=(input_length, )))\n",
    "model.add(Conv1D(32, kernel_size=3, activation='relu', padding='same'))\n",
    "model.add(MaxPooling1D(pool_size=2, strides=2, padding='same'))\n",
    "model.add(Conv1D(64, kernel_size=3, activation='relu', padding='same'))\n",
    "model.add(MaxPooling1D(pool_size=2, strides=2, padding='same'))\n",
    "model.add(Flatten())\n",
    "model.add(Dropout(0.5))\n",
    "model.add(Dense(classes, activation='softmax', name='y_pred'))\n",
    "model.summary()"
   ]
  },
  {
   "cell_type": "code",
   "execution_count": 11,
   "metadata": {
    "ExecuteTime": {
     "end_time": "2021-11-30T22:54:56.663874Z",
     "start_time": "2021-11-30T22:54:56.658788Z"
    },
    "id": "Bx4_HPXwITnH"
   },
   "outputs": [],
   "source": [
    "LR = 0.0005\n",
    "BS = 32\n",
    "EPOCHS = 100"
   ]
  },
  {
   "cell_type": "code",
   "execution_count": 12,
   "metadata": {
    "ExecuteTime": {
     "end_time": "2021-11-30T22:57:36.801483Z",
     "start_time": "2021-11-30T22:54:57.642609Z"
    },
    "colab": {
     "base_uri": "https://localhost:8080/"
    },
    "id": "nEmoAKgsITnH",
    "outputId": "f7905f18-d1af-4c99-cba3-f16ca2e79ea1"
   },
   "outputs": [
    {
     "name": "stdout",
     "output_type": "stream",
     "text": [
      "Epoch 1/100\n",
      "410/410 - 2s - 5ms/step - accuracy: 0.4359 - loss: 2.6846 - val_accuracy: 0.6261 - val_loss: 0.8585\n",
      "Epoch 2/100\n",
      "410/410 - 1s - 2ms/step - accuracy: 0.6295 - loss: 0.8601 - val_accuracy: 0.6888 - val_loss: 0.7084\n",
      "Epoch 3/100\n",
      "410/410 - 1s - 2ms/step - accuracy: 0.6990 - loss: 0.7026 - val_accuracy: 0.7534 - val_loss: 0.5719\n",
      "Epoch 4/100\n",
      "410/410 - 1s - 2ms/step - accuracy: 0.7524 - loss: 0.5921 - val_accuracy: 0.7937 - val_loss: 0.4883\n",
      "Epoch 5/100\n",
      "410/410 - 1s - 2ms/step - accuracy: 0.7856 - loss: 0.5200 - val_accuracy: 0.8125 - val_loss: 0.4438\n",
      "Epoch 6/100\n",
      "410/410 - 1s - 2ms/step - accuracy: 0.8056 - loss: 0.4778 - val_accuracy: 0.8239 - val_loss: 0.4270\n",
      "Epoch 7/100\n",
      "410/410 - 1s - 2ms/step - accuracy: 0.8232 - loss: 0.4335 - val_accuracy: 0.8537 - val_loss: 0.3674\n",
      "Epoch 8/100\n",
      "410/410 - 1s - 2ms/step - accuracy: 0.8393 - loss: 0.4011 - val_accuracy: 0.8686 - val_loss: 0.3434\n",
      "Epoch 9/100\n",
      "410/410 - 1s - 2ms/step - accuracy: 0.8491 - loss: 0.3768 - val_accuracy: 0.8647 - val_loss: 0.3326\n",
      "Epoch 10/100\n",
      "410/410 - 1s - 2ms/step - accuracy: 0.8595 - loss: 0.3529 - val_accuracy: 0.8889 - val_loss: 0.2880\n",
      "Epoch 11/100\n",
      "410/410 - 1s - 3ms/step - accuracy: 0.8725 - loss: 0.3196 - val_accuracy: 0.8954 - val_loss: 0.2754\n",
      "Epoch 12/100\n",
      "410/410 - 1s - 3ms/step - accuracy: 0.8787 - loss: 0.3087 - val_accuracy: 0.8995 - val_loss: 0.2680\n",
      "Epoch 13/100\n",
      "410/410 - 1s - 3ms/step - accuracy: 0.8803 - loss: 0.3035 - val_accuracy: 0.8954 - val_loss: 0.2743\n",
      "Epoch 14/100\n",
      "410/410 - 1s - 2ms/step - accuracy: 0.8917 - loss: 0.2790 - val_accuracy: 0.9089 - val_loss: 0.2484\n",
      "Epoch 15/100\n",
      "410/410 - 1s - 2ms/step - accuracy: 0.8902 - loss: 0.2706 - val_accuracy: 0.9121 - val_loss: 0.2343\n",
      "Epoch 16/100\n",
      "410/410 - 1s - 2ms/step - accuracy: 0.8967 - loss: 0.2643 - val_accuracy: 0.9041 - val_loss: 0.2465\n",
      "Epoch 17/100\n",
      "410/410 - 1s - 2ms/step - accuracy: 0.9064 - loss: 0.2548 - val_accuracy: 0.9176 - val_loss: 0.2207\n",
      "Epoch 18/100\n",
      "410/410 - 1s - 2ms/step - accuracy: 0.8997 - loss: 0.2470 - val_accuracy: 0.9100 - val_loss: 0.2257\n",
      "Epoch 19/100\n",
      "410/410 - 1s - 2ms/step - accuracy: 0.9102 - loss: 0.2364 - val_accuracy: 0.9178 - val_loss: 0.2229\n",
      "Epoch 20/100\n",
      "410/410 - 1s - 2ms/step - accuracy: 0.9127 - loss: 0.2297 - val_accuracy: 0.9194 - val_loss: 0.2078\n",
      "Epoch 21/100\n",
      "410/410 - 1s - 2ms/step - accuracy: 0.9110 - loss: 0.2312 - val_accuracy: 0.9130 - val_loss: 0.2126\n",
      "Epoch 22/100\n",
      "410/410 - 1s - 2ms/step - accuracy: 0.9112 - loss: 0.2279 - val_accuracy: 0.9199 - val_loss: 0.2168\n",
      "Epoch 23/100\n",
      "410/410 - 1s - 2ms/step - accuracy: 0.9175 - loss: 0.2132 - val_accuracy: 0.9276 - val_loss: 0.1969\n",
      "Epoch 24/100\n",
      "410/410 - 1s - 2ms/step - accuracy: 0.9179 - loss: 0.2112 - val_accuracy: 0.9290 - val_loss: 0.1920\n",
      "Epoch 25/100\n",
      "410/410 - 1s - 2ms/step - accuracy: 0.9199 - loss: 0.2049 - val_accuracy: 0.9253 - val_loss: 0.1885\n",
      "Epoch 26/100\n",
      "410/410 - 1s - 2ms/step - accuracy: 0.9209 - loss: 0.2079 - val_accuracy: 0.9260 - val_loss: 0.1916\n",
      "Epoch 27/100\n",
      "410/410 - 1s - 2ms/step - accuracy: 0.9233 - loss: 0.2018 - val_accuracy: 0.9196 - val_loss: 0.2164\n",
      "Epoch 28/100\n",
      "410/410 - 1s - 2ms/step - accuracy: 0.9200 - loss: 0.2042 - val_accuracy: 0.9265 - val_loss: 0.1960\n",
      "Epoch 29/100\n",
      "410/410 - 1s - 2ms/step - accuracy: 0.9225 - loss: 0.1970 - val_accuracy: 0.9247 - val_loss: 0.1947\n",
      "Epoch 30/100\n",
      "410/410 - 1s - 2ms/step - accuracy: 0.9267 - loss: 0.1912 - val_accuracy: 0.9286 - val_loss: 0.1877\n",
      "Epoch 31/100\n",
      "410/410 - 1s - 2ms/step - accuracy: 0.9284 - loss: 0.1900 - val_accuracy: 0.9306 - val_loss: 0.1801\n",
      "Epoch 32/100\n",
      "410/410 - 1s - 3ms/step - accuracy: 0.9287 - loss: 0.1833 - val_accuracy: 0.9276 - val_loss: 0.1855\n",
      "Epoch 33/100\n",
      "410/410 - 1s - 2ms/step - accuracy: 0.9299 - loss: 0.1851 - val_accuracy: 0.9235 - val_loss: 0.1919\n",
      "Epoch 34/100\n",
      "410/410 - 1s - 2ms/step - accuracy: 0.9276 - loss: 0.1869 - val_accuracy: 0.9304 - val_loss: 0.1833\n",
      "Epoch 35/100\n",
      "410/410 - 1s - 2ms/step - accuracy: 0.9257 - loss: 0.1829 - val_accuracy: 0.9276 - val_loss: 0.1868\n",
      "Epoch 36/100\n",
      "410/410 - 1s - 2ms/step - accuracy: 0.9350 - loss: 0.1742 - val_accuracy: 0.9299 - val_loss: 0.1868\n",
      "Epoch 37/100\n",
      "410/410 - 1s - 2ms/step - accuracy: 0.9315 - loss: 0.1777 - val_accuracy: 0.9350 - val_loss: 0.1719\n",
      "Epoch 38/100\n",
      "410/410 - 1s - 2ms/step - accuracy: 0.9312 - loss: 0.1763 - val_accuracy: 0.9288 - val_loss: 0.1908\n",
      "Epoch 39/100\n",
      "410/410 - 1s - 2ms/step - accuracy: 0.9280 - loss: 0.1819 - val_accuracy: 0.9306 - val_loss: 0.1799\n",
      "Epoch 40/100\n",
      "410/410 - 1s - 2ms/step - accuracy: 0.9339 - loss: 0.1763 - val_accuracy: 0.9320 - val_loss: 0.1806\n",
      "Epoch 41/100\n",
      "410/410 - 1s - 2ms/step - accuracy: 0.9299 - loss: 0.1792 - val_accuracy: 0.9290 - val_loss: 0.1833\n",
      "Epoch 42/100\n",
      "410/410 - 1s - 2ms/step - accuracy: 0.9317 - loss: 0.1706 - val_accuracy: 0.9320 - val_loss: 0.1777\n",
      "Epoch 43/100\n",
      "410/410 - 1s - 2ms/step - accuracy: 0.9352 - loss: 0.1698 - val_accuracy: 0.9290 - val_loss: 0.1771\n",
      "Epoch 44/100\n",
      "410/410 - 1s - 3ms/step - accuracy: 0.9313 - loss: 0.1770 - val_accuracy: 0.9308 - val_loss: 0.1806\n",
      "Epoch 45/100\n",
      "410/410 - 1s - 3ms/step - accuracy: 0.9321 - loss: 0.1694 - val_accuracy: 0.9341 - val_loss: 0.1762\n",
      "Epoch 46/100\n",
      "410/410 - 1s - 3ms/step - accuracy: 0.9351 - loss: 0.1660 - val_accuracy: 0.9373 - val_loss: 0.1844\n",
      "Epoch 47/100\n",
      "410/410 - 1s - 3ms/step - accuracy: 0.9321 - loss: 0.1756 - val_accuracy: 0.9274 - val_loss: 0.1887\n",
      "Epoch 47: early stopping\n"
     ]
    }
   ],
   "source": [
    "# this controls the learning rate\n",
    "opt = Adam(learning_rate=LR, beta_1=0.9, beta_2=0.999)\n",
    "# this controls the batch size, or you can manipulate the tf.data.Dataset objects yourself\n",
    "BATCH_SIZE = BS\n",
    "train_dataset = train_dataset.batch(BATCH_SIZE, drop_remainder=False)\n",
    "validation_dataset = validation_dataset.batch(BATCH_SIZE, drop_remainder=False)\n",
    "\n",
    "# train the neural network\n",
    "model.compile(loss='categorical_crossentropy',\n",
    "              optimizer=opt,\n",
    "              metrics=['accuracy'])\n",
    "\n",
    "history = model.fit(train_dataset,\n",
    "                    epochs=EPOCHS,\n",
    "                    validation_data=validation_dataset,\n",
    "                    verbose=2,\n",
    "                    callbacks=callbacks)"
   ]
  },
  {
   "cell_type": "code",
   "execution_count": 13,
   "metadata": {},
   "outputs": [
    {
     "name": "stdout",
     "output_type": "stream",
     "text": [
      "\u001b[1m137/137\u001b[0m \u001b[32m━━━━━━━━━━━━━━━━━━━━\u001b[0m\u001b[37m\u001b[0m \u001b[1m0s\u001b[0m 1ms/step - accuracy: 0.9247 - loss: 0.1958\n",
      "Test accuracy: 0.9254\n"
     ]
    }
   ],
   "source": [
    "# Evaluate the model on the test set\n",
    "test_dataset = test_dataset.batch(BATCH_SIZE, drop_remainder=False)\n",
    "test_loss, test_accuracy = model.evaluate(test_dataset)\n",
    "print(f\"Test accuracy: {test_accuracy:.4f}\")"
   ]
  },
  {
   "cell_type": "code",
   "execution_count": 14,
   "metadata": {
    "ExecuteTime": {
     "end_time": "2021-11-30T22:57:41.031890Z",
     "start_time": "2021-11-30T22:57:41.021671Z"
    },
    "id": "6Ieiaa7EITnH"
   },
   "outputs": [],
   "source": [
    "import matplotlib.pyplot as plt\n",
    "def plot_result(history, res= 'loss'):\n",
    "    plt.plot(history.history[res])\n",
    "    plt.plot(history.history['val_'+res])\n",
    "    plt.title(res+' vs. epochs')\n",
    "    plt.ylabel(res)\n",
    "    plt.xlabel('Epoch')\n",
    "    if res == 'loss':\n",
    "        plt.legend(['Training', res], loc='upper right')\n",
    "    else:\n",
    "        plt.legend(['Training', 'Validation'], loc='lower right')\n",
    "    plt.show()"
   ]
  },
  {
   "cell_type": "code",
   "execution_count": 15,
   "metadata": {
    "ExecuteTime": {
     "end_time": "2021-11-30T22:57:42.090305Z",
     "start_time": "2021-11-30T22:57:41.774989Z"
    },
    "colab": {
     "base_uri": "https://localhost:8080/",
     "height": 572
    },
    "id": "PUA_VIaZITnH",
    "outputId": "7611e74b-83d7-44d7-eb8c-23cad46dcfec"
   },
   "outputs": [
    {
     "data": {
      "image/png": "[encoded data removed]",
      "text/plain": [
       "<Figure size 640x480 with 1 Axes>"
      ]
     },
     "metadata": {},
     "output_type": "display_data"
    },
    {
     "data": {
      "image/png": "[encoded data removed]",
      "text/plain": [
       "<Figure size 640x480 with 1 Axes>"
      ]
     },
     "metadata": {},
     "output_type": "display_data"
    }
   ],
   "source": [
    "plot_result(history, res= 'loss')\n",
    "plot_result(history, res= 'accuracy')"
   ]
  },
  {
   "cell_type": "code",
   "execution_count": 16,
   "metadata": {},
   "outputs": [
    {
     "name": "stdout",
     "output_type": "stream",
     "text": [
      "\u001b[1m137/137\u001b[0m \u001b[32m━━━━━━━━━━━━━━━━━━━━\u001b[0m\u001b[37m\u001b[0m \u001b[1m0s\u001b[0m 1ms/step\n",
      "Accuracy: 0.9254\n",
      "Class 0 - Precision: 0.9335, Recall: 0.8759, F1 Score: 0.9038\n",
      "Class 1 - Precision: 0.8791, Recall: 0.9344, F1 Score: 0.9059\n",
      "Class 2 - Precision: 0.9695, Recall: 0.9905, F1 Score: 0.9799\n",
      "Class 3 - Precision: 0.9669, Recall: 0.8992, F1 Score: 0.9318\n",
      "\n",
      "Classification Report:\n",
      "\n",
      "              precision    recall  f1-score   support\n",
      "\n",
      "       aedes       0.93      0.88      0.90      1475\n",
      "   anopheles       0.88      0.93      0.91      1478\n",
      "       culex       0.97      0.99      0.98      1058\n",
      "       noise       0.97      0.90      0.93       357\n",
      "\n",
      "    accuracy                           0.93      4368\n",
      "   macro avg       0.94      0.93      0.93      4368\n",
      "weighted avg       0.93      0.93      0.93      4368\n",
      "\n"
     ]
    }
   ],
   "source": [
    "from sklearn.metrics import precision_score, recall_score, f1_score, accuracy_score, classification_report\n",
    "\n",
    "# Assuming X_test and Y_test are your test datasets\n",
    "# Make predictions\n",
    "Y_pred = model.predict(X_test)\n",
    "Y_pred_classes = np.argmax(Y_pred, axis=1)\n",
    "Y_true = np.argmax(Y_test, axis=1)\n",
    "\n",
    "# Calculate precision, recall, and F1 score for each class\n",
    "precision = precision_score(Y_true, Y_pred_classes, average=None)\n",
    "recall = recall_score(Y_true, Y_pred_classes, average=None)\n",
    "f1 = f1_score(Y_true, Y_pred_classes, average=None)\n",
    "accuracy = accuracy_score(Y_true, Y_pred_classes)\n",
    "\n",
    "# Print the results\n",
    "print(f'Accuracy: {accuracy:.4f}')\n",
    "for i, (p, r, f) in enumerate(zip(precision, recall, f1)):\n",
    "    print(f'Class {i} - Precision: {p:.4f}, Recall: {r:.4f}, F1 Score: {f:.4f}')\n",
    "\n",
    "# Alternatively, you can use classification_report for a detailed report\n",
    "print(\"\\nClassification Report:\\n\")\n",
    "print(classification_report(Y_true, Y_pred_classes, target_names=['aedes', 'anopheles', 'culex', 'noise']))"
   ]
  },
  {
   "cell_type": "code",
   "execution_count": 17,
   "metadata": {
    "ExecuteTime": {
     "end_time": "2021-11-30T21:22:03.272915Z",
     "start_time": "2021-11-30T21:22:03.269221Z"
    },
    "id": "-v2JgmXmITnH"
   },
   "outputs": [
    {
     "name": "stderr",
     "output_type": "stream",
     "text": [
      "WARNING:absl:You are saving your model as an HDF5 file via `model.save()` or `keras.saving.save_model(model)`. This file format is considered legacy. We recommend using instead the native Keras format, e.g. `model.save('my_model.keras')` or `keras.saving.save_model(model, 'my_model.keras')`. \n"
     ]
    }
   ],
   "source": [
    "# Save the model to disk in HDF5 format\n",
    "model.save('saved_model.h5')"
   ]
  },
  {
   "cell_type": "code",
   "execution_count": 18,
   "metadata": {},
   "outputs": [
    {
     "name": "stderr",
     "output_type": "stream",
     "text": [
      "WARNING:absl:Compiled the loaded model, but the compiled metrics have yet to be built. `model.compile_metrics` will be empty until you train or evaluate the model.\n"
     ]
    }
   ],
   "source": [
    "# Load the model from the HDF5 file\n",
    "model = tf.keras.models.load_model('saved_model.h5')"
   ]
  },
  {
   "cell_type": "code",
   "execution_count": 19,
   "metadata": {},
   "outputs": [
    {
     "name": "stdout",
     "output_type": "stream",
     "text": [
      "INFO:tensorflow:Assets written to: C:\\Users\\nguye\\AppData\\Local\\Temp\\tmpyyd4tbuj\\assets\n"
     ]
    },
    {
     "name": "stderr",
     "output_type": "stream",
     "text": [
      "INFO:tensorflow:Assets written to: C:\\Users\\nguye\\AppData\\Local\\Temp\\tmpyyd4tbuj\\assets\n"
     ]
    },
    {
     "name": "stdout",
     "output_type": "stream",
     "text": [
      "Saved artifact at 'C:\\Users\\nguye\\AppData\\Local\\Temp\\tmpyyd4tbuj'. The following endpoints are available:\n",
      "\n",
      "* Endpoint 'serve'\n",
      "  args_0 (POSITIONAL_ONLY): TensorSpec(shape=(None, 5135), dtype=tf.float32, name='input_layer')\n",
      "Output Type:\n",
      "  TensorSpec(shape=(None, 4), dtype=tf.float32, name=None)\n",
      "Captures:\n",
      "  2983572653648: TensorSpec(shape=(), dtype=tf.resource, name=None)\n",
      "  2983572654992: TensorSpec(shape=(), dtype=tf.resource, name=None)\n",
      "  2983572654608: TensorSpec(shape=(), dtype=tf.resource, name=None)\n",
      "  2983572655760: TensorSpec(shape=(), dtype=tf.resource, name=None)\n",
      "  2983572654224: TensorSpec(shape=(), dtype=tf.resource, name=None)\n",
      "  2983572657104: TensorSpec(shape=(), dtype=tf.resource, name=None)\n"
     ]
    }
   ],
   "source": [
    "# Convert the model to TensorFlow Lite format\n",
    "converter = tf.lite.TFLiteConverter.from_keras_model(model)\n",
    "tflite_model = converter.convert()\n",
    "\n",
    "# Save the TensorFlow Lite model to disk\n",
    "with open('model.tflite', 'wb') as f:\n",
    "    f.write(tflite_model)"
   ]
  }
 ],
 "metadata": {
  "colab": {
   "collapsed_sections": [],
   "name": "20_ei-ictp_mosquito_wingbeat_sound_classification_tinyml-nn-classifier.ipynb",
   "provenance": []
  },
  "hide_input": false,
  "kernelspec": {
   "display_name": "Python 3",
   "name": "python3"
  },
  "language_info": {
   "codemirror_mode": {
    "name": "ipython",
    "version": 3
   },
   "file_extension": ".py",
   "mimetype": "text/x-python",
   "name": "python",
   "nbconvert_exporter": "python",
   "pygments_lexer": "ipython3",
   "version": "3.12.7"
  },
  "nbTranslate": {
   "displayLangs": [
    "*"
   ],
   "hotkey": "alt-t",
   "langInMainMenu": true,
   "sourceLang": "en",
   "targetLang": "fr",
   "useGoogleTranslate": true
  },
  "toc": {
   "base_numbering": 1,
   "nav_menu": {},
   "number_sections": true,
   "sideBar": true,
   "skip_h1_title": true,
   "title_cell": "Table of Contents",
   "title_sidebar": "Contents",
   "toc_cell": false,
   "toc_position": {},
   "toc_section_display": true,
   "toc_window_display": true
  },
  "varInspector": {
   "cols": {
    "lenName": 16,
    "lenType": 16,
    "lenVar": 40
   },
   "kernels_config": {
    "python": {
     "delete_cmd_postfix": "",
     "delete_cmd_prefix": "del ",
     "library": "var_list.py",
     "varRefreshCmd": "print(var_dic_list())"
    },
    "r": {
     "delete_cmd_postfix": ") ",
     "delete_cmd_prefix": "rm(",
     "library": "var_list.r",
     "varRefreshCmd": "cat(var_dic_list()) "
    }
   },
   "types_to_exclude": [
    "module",
    "function",
    "builtin_function_or_method",
    "instance",
    "_Feature"
   ],
   "window_display": false
  }
 },
 "nbformat": 4,
 "nbformat_minor": 0
}
