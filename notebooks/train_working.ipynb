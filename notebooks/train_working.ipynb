{
 "cells": [
  {
   "cell_type": "code",
   "execution_count": 1,
   "metadata": {
    "ExecuteTime": {
     "end_time": "2021-11-30T21:42:36.514494Z",
     "start_time": "2021-11-30T21:42:28.820068Z"
    },
    "id": "rFvftaWIChCA"
   },
   "outputs": [],
   "source": [
    "import numpy as np\n",
    "import matplotlib.pyplot as plt\n",
    "import scipy.fftpack\n",
    "import librosa\n",
    "import librosa.display\n",
    "import IPython.display\n",
    "import os"
   ]
  },
  {
   "cell_type": "code",
   "execution_count": 2,
   "metadata": {},
   "outputs": [],
   "source": [
    "# Data processing & array operations\n",
    "import numpy as np\n",
    "import pandas as pd\n",
    "from sklearn.model_selection import train_test_split\n",
    "\n",
    "# Audio processing\n",
    "import librosa\n",
    "import librosa.display\n",
    "\n",
    "# Deep learning\n",
    "import tensorflow as tf\n",
    "from tensorflow.keras.models import Sequential\n",
    "from tensorflow.keras.layers import Dense, InputLayer, Dropout, Conv1D, Flatten, Reshape, MaxPooling1D, BatchNormalization\n",
    "from tensorflow.keras.optimizers import Adam\n",
    "from tensorflow.keras.callbacks import EarlyStopping, TensorBoard\n",
    "\n",
    "# Visualization\n",
    "import matplotlib.pyplot as plt\n",
    "import seaborn as sns\n",
    "\n",
    "# Utilities\n",
    "import os\n",
    "from datetime import datetime\n",
    "from tqdm import tqdm\n",
    "import IPython.display"
   ]
  },
  {
   "cell_type": "code",
   "execution_count": 3,
   "metadata": {},
   "outputs": [],
   "source": [
    "# Cell 1: Import required libraries\n",
    "import os\n",
    "import numpy as np\n",
    "import librosa\n",
    "import random\n",
    "from sklearn.model_selection import train_test_split\n",
    "import tensorflow as tf\n",
    "from datetime import datetime\n",
    "import random\n"
   ]
  },
  {
   "cell_type": "code",
   "execution_count": 4,
   "metadata": {},
   "outputs": [
    {
     "name": "stderr",
     "output_type": "stream",
     "text": [
      "Processing aedes: 100%|██████████| 34/34 [00:08<00:00,  3.95it/s]\n",
      "Processing anopheles arabiensis: 100%|██████████| 30/30 [00:09<00:00,  3.11it/s]\n",
      "Processing anopheles gambiae: 100%|██████████| 34/34 [00:16<00:00,  2.01it/s]\n",
      "Processing culex: 100%|██████████| 34/34 [00:17<00:00,  1.90it/s]\n",
      "Processing noise: 100%|██████████| 13/13 [00:07<00:00,  1.86it/s]\n"
     ]
    },
    {
     "name": "stdout",
     "output_type": "stream",
     "text": [
      "Feature matrix shape: (30354, 5135)\n",
      "Labels shape: (30354,)\n"
     ]
    }
   ],
   "source": [
    "import os\n",
    "import librosa\n",
    "import numpy as np\n",
    "from tqdm import tqdm\n",
    "\n",
    "def load_audio_files(base_path):\n",
    "    # Dictionary to store audio data and labels\n",
    "    data = {\n",
    "        'features': [],\n",
    "        'labels': []\n",
    "    }\n",
    "    \n",
    "    # Update label mapping to match the new class structure\n",
    "    label_map = {\n",
    "        'aedes': 0,\n",
    "        'anopheles arabiensis': 1,\n",
    "        'anopheles gambiae': 2,\n",
    "        'culex': 3,\n",
    "        'noise': 4\n",
    "    }\n",
    "\n",
    "    # Loop through each class folder\n",
    "    for class_name in label_map.keys():\n",
    "        class_path = os.path.join(base_path, class_name)\n",
    "        \n",
    "        # Skip if not a directory\n",
    "        if not os.path.isdir(class_path):\n",
    "            print(f\"Skipping {class_name} as it is not a directory.\")\n",
    "            continue\n",
    "            \n",
    "        # Process all `.wav` files in the folder (no subfolders)\n",
    "        for file in tqdm(os.listdir(class_path), desc=f\"Processing {class_name}\"):\n",
    "            if file.endswith('.wav'):\n",
    "                file_path = os.path.join(class_path, file)\n",
    "                try:\n",
    "                    # Load audio file\n",
    "                    audio, sr = librosa.load(file_path, sr=16000)  # Resample to 16kHz\n",
    "                    \n",
    "                    # Split audio into 1-second windows with a 250 ms stride\n",
    "                    window_size = sr  # 1 second\n",
    "                    stride = int(0.25 * sr)  # 250 ms\n",
    "                    num_windows = (len(audio) - window_size) // stride + 1\n",
    "                    \n",
    "                    for i in range(num_windows):\n",
    "                        start = i * stride\n",
    "                        end = start + window_size\n",
    "                        window = audio[start:end]\n",
    "                        \n",
    "                        # Generate spectrogram with specified parameters\n",
    "                        n_fft = int(0.025 * sr)  # Frame length: 25 ms\n",
    "                        hop_length = int(0.0125 * sr)  # Frame stride: 12.5 ms\n",
    "                        S = librosa.stft(window, n_fft=n_fft, hop_length=hop_length)\n",
    "                        S_db = librosa.amplitude_to_db(abs(S), ref=np.max)\n",
    "                        \n",
    "                        # Apply noise filtering\n",
    "                        S_db = np.where(S_db < -52, -52, S_db)\n",
    "                        \n",
    "                        # Flatten the spectrogram\n",
    "                        S_db_flat = S_db.flatten()\n",
    "                        \n",
    "                        # Resize/pad if needed to ensure consistent dimensions\n",
    "                        target_length = 5135  # Match your original input size\n",
    "                        if len(S_db_flat) > target_length:\n",
    "                            S_db_flat = S_db_flat[:target_length]\n",
    "                        elif len(S_db_flat) < target_length:\n",
    "                            pad_width = target_length - len(S_db_flat)\n",
    "                            S_db_flat = np.pad(S_db_flat, (0, pad_width))\n",
    "                            \n",
    "                        # Add to dataset\n",
    "                        data['features'].append(S_db_flat)\n",
    "                        data['labels'].append(label_map[class_name])\n",
    "                        \n",
    "                except Exception as e:\n",
    "                    print(f\"Error processing {file_path}: {str(e)}\")\n",
    "                    continue\n",
    "\n",
    "    # Convert to numpy arrays\n",
    "    X = np.array(data['features'])\n",
    "    Y = np.array(data['labels'])\n",
    "    \n",
    "    return X, Y\n",
    "\n",
    "# Use the function\n",
    "base_path = \"./datasets/Preprocessed\"  # Updated path to your dataset location\n",
    "X, Y = load_audio_files(base_path)\n",
    "\n",
    "# Check the shapes\n",
    "print(\"Feature matrix shape:\", X.shape)\n",
    "print(\"Labels shape:\", Y.shape)\n"
   ]
  },
  {
   "cell_type": "code",
   "execution_count": 5,
   "metadata": {},
   "outputs": [
    {
     "data": {
      "text/plain": [
       "5135"
      ]
     },
     "execution_count": 5,
     "metadata": {},
     "output_type": "execute_result"
    }
   ],
   "source": [
    "image = X[10]\n",
    "img_length = image.shape[0]\n",
    "img_length"
   ]
  },
  {
   "cell_type": "code",
   "execution_count": 6,
   "metadata": {},
   "outputs": [
    {
     "name": "stdout",
     "output_type": "stream",
     "text": [
      "(79, 65)\n"
     ]
    }
   ],
   "source": [
    "# Set the number of columns\n",
    "columns = 65\n",
    "rows = int(img_length / columns)\n",
    "image = np.reshape(image, (rows, columns))\n",
    "print(image.shape)  # Output should be (125, 41)"
   ]
  },
  {
   "cell_type": "code",
   "execution_count": 7,
   "metadata": {},
   "outputs": [
    {
     "data": {
      "image/png": "[encoded data removed]",
      "text/plain": [
       "<Figure size 1200x600 with 2 Axes>"
      ]
     },
     "metadata": {},
     "output_type": "display_data"
    }
   ],
   "source": [
    "import matplotlib.pyplot as plt\n",
    "import seaborn as sns\n",
    "plt.figure(figsize=(12,6))\n",
    "#sns.heatmap(image.T)\n",
    "ax = sns.heatmap(image.T)\n",
    "ax.invert_yaxis()\n",
    "plt.title('1D-image - Spectogram of 1-second sample');"
   ]
  },
  {
   "cell_type": "code",
   "execution_count": 10,
   "metadata": {},
   "outputs": [
    {
     "name": "stdout",
     "output_type": "stream",
     "text": [
      "Training set shape: (18212, 5135) (18212, 5)\n",
      "Validation set shape: (6071, 5135) (6071, 5)\n",
      "Test set shape: (6071, 5135) (6071, 5)\n"
     ]
    }
   ],
   "source": [
    "import random\n",
    "import numpy as np\n",
    "import tensorflow as tf\n",
    "from sklearn.model_selection import train_test_split\n",
    "\n",
    "# Set random seed for reproducibility\n",
    "RANDOM_SEED = 42\n",
    "random.seed(RANDOM_SEED)\n",
    "np.random.seed(RANDOM_SEED)\n",
    "tf.random.set_seed(RANDOM_SEED)\n",
    "\n",
    "# Define the classes\n",
    "classes_values = [\"aedes\", \"anopheles arabiensis\", \"anopheles gambiae\", \"culex\", \"noise\"]\n",
    "classes = len(classes_values)\n",
    "\n",
    "# Convert labels to one-hot encoding\n",
    "Y = tf.keras.utils.to_categorical(Y, classes)\n",
    "\n",
    "# Split data into train, validation, and test sets\n",
    "X_train, X_temp, Y_train, Y_temp = train_test_split(X, Y, test_size=0.4, random_state=RANDOM_SEED)\n",
    "X_val, X_test, Y_val, Y_test = train_test_split(X_temp, Y_temp, test_size=0.5, random_state=RANDOM_SEED)\n",
    "\n",
    "# Prepare the data for training\n",
    "input_length = X_train[0].shape[0]\n",
    "train_dataset = tf.data.Dataset.from_tensor_slices((X_train, Y_train))\n",
    "validation_dataset = tf.data.Dataset.from_tensor_slices((X_val, Y_val))\n",
    "test_dataset = tf.data.Dataset.from_tensor_slices((X_test, Y_test))\n",
    "\n",
    "# Check the shapes\n",
    "print(\"Training set shape:\", X_train.shape, Y_train.shape)\n",
    "print(\"Validation set shape:\", X_val.shape, Y_val.shape)\n",
    "print(\"Test set shape:\", X_test.shape, Y_test.shape)"
   ]
  },
  {
   "cell_type": "code",
   "execution_count": 11,
   "metadata": {
    "ExecuteTime": {
     "end_time": "2021-11-30T22:53:03.796815Z",
     "start_time": "2021-11-30T22:53:03.793884Z"
    },
    "id": "wp6gglY6ITnH"
   },
   "outputs": [],
   "source": [
    "from tensorflow.keras.callbacks import EarlyStopping\n",
    "early_stop = EarlyStopping(monitor='val_loss', \n",
    "                           mode='min', \n",
    "                           verbose=1, \n",
    "                           patience=10)\n",
    "\n",
    "callbacks = [early_stop]"
   ]
  },
  {
   "cell_type": "markdown",
   "metadata": {
    "id": "0fg94m7DITnH"
   },
   "source": [
    "Train the model:"
   ]
  },
  {
   "cell_type": "code",
   "execution_count": 12,
   "metadata": {},
   "outputs": [
    {
     "name": "stderr",
     "output_type": "stream",
     "text": [
      "c:\\Users\\nguye\\AppData\\Local\\Programs\\Python\\Python312\\Lib\\site-packages\\keras\\src\\layers\\reshaping\\reshape.py:39: UserWarning: Do not pass an `input_shape`/`input_dim` argument to a layer. When using Sequential models, prefer using an `Input(shape)` object as the first layer in the model instead.\n",
      "  super().__init__(**kwargs)\n"
     ]
    },
    {
     "data": {
      "text/html": [
       "<pre style=\"white-space:pre;overflow-x:auto;line-height:normal;font-family:Menlo,'DejaVu Sans Mono',consolas,'Courier New',monospace\"><span style=\"font-weight: bold\">Model: \"sequential_1\"</span>\n",
       "</pre>\n"
      ],
      "text/plain": [
       "\u001b[1mModel: \"sequential_1\"\u001b[0m\n"
      ]
     },
     "metadata": {},
     "output_type": "display_data"
    },
    {
     "data": {
      "text/html": [
       "<pre style=\"white-space:pre;overflow-x:auto;line-height:normal;font-family:Menlo,'DejaVu Sans Mono',consolas,'Courier New',monospace\">┏━━━━━━━━━━━━━━━━━━━━━━━━━━━━━━━━━┳━━━━━━━━━━━━━━━━━━━━━━━━┳━━━━━━━━━━━━━━━┓\n",
       "┃<span style=\"font-weight: bold\"> Layer (type)                    </span>┃<span style=\"font-weight: bold\"> Output Shape           </span>┃<span style=\"font-weight: bold\">       Param # </span>┃\n",
       "┡━━━━━━━━━━━━━━━━━━━━━━━━━━━━━━━━━╇━━━━━━━━━━━━━━━━━━━━━━━━╇━━━━━━━━━━━━━━━┩\n",
       "│ reshape (<span style=\"color: #0087ff; text-decoration-color: #0087ff\">Reshape</span>)               │ (<span style=\"color: #00d7ff; text-decoration-color: #00d7ff\">None</span>, <span style=\"color: #00af00; text-decoration-color: #00af00\">79</span>, <span style=\"color: #00af00; text-decoration-color: #00af00\">65</span>)         │             <span style=\"color: #00af00; text-decoration-color: #00af00\">0</span> │\n",
       "├─────────────────────────────────┼────────────────────────┼───────────────┤\n",
       "│ conv1d (<span style=\"color: #0087ff; text-decoration-color: #0087ff\">Conv1D</span>)                 │ (<span style=\"color: #00d7ff; text-decoration-color: #00d7ff\">None</span>, <span style=\"color: #00af00; text-decoration-color: #00af00\">79</span>, <span style=\"color: #00af00; text-decoration-color: #00af00\">32</span>)         │         <span style=\"color: #00af00; text-decoration-color: #00af00\">6,272</span> │\n",
       "├─────────────────────────────────┼────────────────────────┼───────────────┤\n",
       "│ max_pooling1d (<span style=\"color: #0087ff; text-decoration-color: #0087ff\">MaxPooling1D</span>)    │ (<span style=\"color: #00d7ff; text-decoration-color: #00d7ff\">None</span>, <span style=\"color: #00af00; text-decoration-color: #00af00\">40</span>, <span style=\"color: #00af00; text-decoration-color: #00af00\">32</span>)         │             <span style=\"color: #00af00; text-decoration-color: #00af00\">0</span> │\n",
       "├─────────────────────────────────┼────────────────────────┼───────────────┤\n",
       "│ conv1d_1 (<span style=\"color: #0087ff; text-decoration-color: #0087ff\">Conv1D</span>)               │ (<span style=\"color: #00d7ff; text-decoration-color: #00d7ff\">None</span>, <span style=\"color: #00af00; text-decoration-color: #00af00\">40</span>, <span style=\"color: #00af00; text-decoration-color: #00af00\">64</span>)         │         <span style=\"color: #00af00; text-decoration-color: #00af00\">6,208</span> │\n",
       "├─────────────────────────────────┼────────────────────────┼───────────────┤\n",
       "│ max_pooling1d_1 (<span style=\"color: #0087ff; text-decoration-color: #0087ff\">MaxPooling1D</span>)  │ (<span style=\"color: #00d7ff; text-decoration-color: #00d7ff\">None</span>, <span style=\"color: #00af00; text-decoration-color: #00af00\">20</span>, <span style=\"color: #00af00; text-decoration-color: #00af00\">64</span>)         │             <span style=\"color: #00af00; text-decoration-color: #00af00\">0</span> │\n",
       "├─────────────────────────────────┼────────────────────────┼───────────────┤\n",
       "│ conv1d_2 (<span style=\"color: #0087ff; text-decoration-color: #0087ff\">Conv1D</span>)               │ (<span style=\"color: #00d7ff; text-decoration-color: #00d7ff\">None</span>, <span style=\"color: #00af00; text-decoration-color: #00af00\">20</span>, <span style=\"color: #00af00; text-decoration-color: #00af00\">64</span>)         │        <span style=\"color: #00af00; text-decoration-color: #00af00\">12,352</span> │\n",
       "├─────────────────────────────────┼────────────────────────┼───────────────┤\n",
       "│ max_pooling1d_2 (<span style=\"color: #0087ff; text-decoration-color: #0087ff\">MaxPooling1D</span>)  │ (<span style=\"color: #00d7ff; text-decoration-color: #00d7ff\">None</span>, <span style=\"color: #00af00; text-decoration-color: #00af00\">10</span>, <span style=\"color: #00af00; text-decoration-color: #00af00\">64</span>)         │             <span style=\"color: #00af00; text-decoration-color: #00af00\">0</span> │\n",
       "├─────────────────────────────────┼────────────────────────┼───────────────┤\n",
       "│ flatten (<span style=\"color: #0087ff; text-decoration-color: #0087ff\">Flatten</span>)               │ (<span style=\"color: #00d7ff; text-decoration-color: #00d7ff\">None</span>, <span style=\"color: #00af00; text-decoration-color: #00af00\">640</span>)            │             <span style=\"color: #00af00; text-decoration-color: #00af00\">0</span> │\n",
       "├─────────────────────────────────┼────────────────────────┼───────────────┤\n",
       "│ dropout (<span style=\"color: #0087ff; text-decoration-color: #0087ff\">Dropout</span>)               │ (<span style=\"color: #00d7ff; text-decoration-color: #00d7ff\">None</span>, <span style=\"color: #00af00; text-decoration-color: #00af00\">640</span>)            │             <span style=\"color: #00af00; text-decoration-color: #00af00\">0</span> │\n",
       "├─────────────────────────────────┼────────────────────────┼───────────────┤\n",
       "│ y_pred (<span style=\"color: #0087ff; text-decoration-color: #0087ff\">Dense</span>)                  │ (<span style=\"color: #00d7ff; text-decoration-color: #00d7ff\">None</span>, <span style=\"color: #00af00; text-decoration-color: #00af00\">5</span>)              │         <span style=\"color: #00af00; text-decoration-color: #00af00\">3,205</span> │\n",
       "└─────────────────────────────────┴────────────────────────┴───────────────┘\n",
       "</pre>\n"
      ],
      "text/plain": [
       "┏━━━━━━━━━━━━━━━━━━━━━━━━━━━━━━━━━┳━━━━━━━━━━━━━━━━━━━━━━━━┳━━━━━━━━━━━━━━━┓\n",
       "┃\u001b[1m \u001b[0m\u001b[1mLayer (type)                   \u001b[0m\u001b[1m \u001b[0m┃\u001b[1m \u001b[0m\u001b[1mOutput Shape          \u001b[0m\u001b[1m \u001b[0m┃\u001b[1m \u001b[0m\u001b[1m      Param #\u001b[0m\u001b[1m \u001b[0m┃\n",
       "┡━━━━━━━━━━━━━━━━━━━━━━━━━━━━━━━━━╇━━━━━━━━━━━━━━━━━━━━━━━━╇━━━━━━━━━━━━━━━┩\n",
       "│ reshape (\u001b[38;5;33mReshape\u001b[0m)               │ (\u001b[38;5;45mNone\u001b[0m, \u001b[38;5;34m79\u001b[0m, \u001b[38;5;34m65\u001b[0m)         │             \u001b[38;5;34m0\u001b[0m │\n",
       "├─────────────────────────────────┼────────────────────────┼───────────────┤\n",
       "│ conv1d (\u001b[38;5;33mConv1D\u001b[0m)                 │ (\u001b[38;5;45mNone\u001b[0m, \u001b[38;5;34m79\u001b[0m, \u001b[38;5;34m32\u001b[0m)         │         \u001b[38;5;34m6,272\u001b[0m │\n",
       "├─────────────────────────────────┼────────────────────────┼───────────────┤\n",
       "│ max_pooling1d (\u001b[38;5;33mMaxPooling1D\u001b[0m)    │ (\u001b[38;5;45mNone\u001b[0m, \u001b[38;5;34m40\u001b[0m, \u001b[38;5;34m32\u001b[0m)         │             \u001b[38;5;34m0\u001b[0m │\n",
       "├─────────────────────────────────┼────────────────────────┼───────────────┤\n",
       "│ conv1d_1 (\u001b[38;5;33mConv1D\u001b[0m)               │ (\u001b[38;5;45mNone\u001b[0m, \u001b[38;5;34m40\u001b[0m, \u001b[38;5;34m64\u001b[0m)         │         \u001b[38;5;34m6,208\u001b[0m │\n",
       "├─────────────────────────────────┼────────────────────────┼───────────────┤\n",
       "│ max_pooling1d_1 (\u001b[38;5;33mMaxPooling1D\u001b[0m)  │ (\u001b[38;5;45mNone\u001b[0m, \u001b[38;5;34m20\u001b[0m, \u001b[38;5;34m64\u001b[0m)         │             \u001b[38;5;34m0\u001b[0m │\n",
       "├─────────────────────────────────┼────────────────────────┼───────────────┤\n",
       "│ conv1d_2 (\u001b[38;5;33mConv1D\u001b[0m)               │ (\u001b[38;5;45mNone\u001b[0m, \u001b[38;5;34m20\u001b[0m, \u001b[38;5;34m64\u001b[0m)         │        \u001b[38;5;34m12,352\u001b[0m │\n",
       "├─────────────────────────────────┼────────────────────────┼───────────────┤\n",
       "│ max_pooling1d_2 (\u001b[38;5;33mMaxPooling1D\u001b[0m)  │ (\u001b[38;5;45mNone\u001b[0m, \u001b[38;5;34m10\u001b[0m, \u001b[38;5;34m64\u001b[0m)         │             \u001b[38;5;34m0\u001b[0m │\n",
       "├─────────────────────────────────┼────────────────────────┼───────────────┤\n",
       "│ flatten (\u001b[38;5;33mFlatten\u001b[0m)               │ (\u001b[38;5;45mNone\u001b[0m, \u001b[38;5;34m640\u001b[0m)            │             \u001b[38;5;34m0\u001b[0m │\n",
       "├─────────────────────────────────┼────────────────────────┼───────────────┤\n",
       "│ dropout (\u001b[38;5;33mDropout\u001b[0m)               │ (\u001b[38;5;45mNone\u001b[0m, \u001b[38;5;34m640\u001b[0m)            │             \u001b[38;5;34m0\u001b[0m │\n",
       "├─────────────────────────────────┼────────────────────────┼───────────────┤\n",
       "│ y_pred (\u001b[38;5;33mDense\u001b[0m)                  │ (\u001b[38;5;45mNone\u001b[0m, \u001b[38;5;34m5\u001b[0m)              │         \u001b[38;5;34m3,205\u001b[0m │\n",
       "└─────────────────────────────────┴────────────────────────┴───────────────┘\n"
      ]
     },
     "metadata": {},
     "output_type": "display_data"
    },
    {
     "data": {
      "text/html": [
       "<pre style=\"white-space:pre;overflow-x:auto;line-height:normal;font-family:Menlo,'DejaVu Sans Mono',consolas,'Courier New',monospace\"><span style=\"font-weight: bold\"> Total params: </span><span style=\"color: #00af00; text-decoration-color: #00af00\">28,037</span> (109.52 KB)\n",
       "</pre>\n"
      ],
      "text/plain": [
       "\u001b[1m Total params: \u001b[0m\u001b[38;5;34m28,037\u001b[0m (109.52 KB)\n"
      ]
     },
     "metadata": {},
     "output_type": "display_data"
    },
    {
     "data": {
      "text/html": [
       "<pre style=\"white-space:pre;overflow-x:auto;line-height:normal;font-family:Menlo,'DejaVu Sans Mono',consolas,'Courier New',monospace\"><span style=\"font-weight: bold\"> Trainable params: </span><span style=\"color: #00af00; text-decoration-color: #00af00\">28,037</span> (109.52 KB)\n",
       "</pre>\n"
      ],
      "text/plain": [
       "\u001b[1m Trainable params: \u001b[0m\u001b[38;5;34m28,037\u001b[0m (109.52 KB)\n"
      ]
     },
     "metadata": {},
     "output_type": "display_data"
    },
    {
     "data": {
      "text/html": [
       "<pre style=\"white-space:pre;overflow-x:auto;line-height:normal;font-family:Menlo,'DejaVu Sans Mono',consolas,'Courier New',monospace\"><span style=\"font-weight: bold\"> Non-trainable params: </span><span style=\"color: #00af00; text-decoration-color: #00af00\">0</span> (0.00 B)\n",
       "</pre>\n"
      ],
      "text/plain": [
       "\u001b[1m Non-trainable params: \u001b[0m\u001b[38;5;34m0\u001b[0m (0.00 B)\n"
      ]
     },
     "metadata": {},
     "output_type": "display_data"
    }
   ],
   "source": [
    "# MODEL WITH REGULARIZATION\n",
    "\n",
    "import tensorflow as tf\n",
    "from tensorflow.keras.models import Sequential\n",
    "from tensorflow.keras.layers import Dense, InputLayer, Dropout, Conv1D, SeparableConv1D, Flatten, Reshape, MaxPooling1D\n",
    "from tensorflow.keras.optimizers import Adam\n",
    "from tensorflow.keras.regularizers import l2\n",
    "\n",
    "# Model architecture with regularization\n",
    "model = Sequential()\n",
    "model.add(Reshape((int(input_length / 65), 65), input_shape=(input_length, )))\n",
    "model.add(Conv1D(32, kernel_size=3, activation='relu', padding='same', kernel_regularizer=l2(0.001)))\n",
    "model.add(MaxPooling1D(pool_size=2, strides=2, padding='same'))\n",
    "model.add(Conv1D(64, kernel_size=3, activation='relu', padding='same', kernel_regularizer=l2(0.001)))\n",
    "model.add(MaxPooling1D(pool_size=2, strides=2, padding='same'))\n",
    "model.add(Conv1D(64, kernel_size=3, activation='relu', padding='same', kernel_regularizer=l2(0.001)))  # Using Conv1D instead of SeparableConv1D\n",
    "model.add(MaxPooling1D(pool_size=2, strides=2, padding='same'))\n",
    "model.add(Flatten())\n",
    "model.add(Dropout(0.3))\n",
    "model.add(Dense(classes, activation='softmax', name='y_pred'))\n",
    "model.summary()"
   ]
  },
  {
   "cell_type": "code",
   "execution_count": null,
   "metadata": {
    "ExecuteTime": {
     "end_time": "2021-11-30T22:53:29.345315Z",
     "start_time": "2021-11-30T22:53:29.161345Z"
    },
    "colab": {
     "base_uri": "https://localhost:8080/"
    },
    "id": "yl_OGuapITnH",
    "outputId": "20e0c0e6-73c1-4f69-ac5d-4de5f15d0389"
   },
   "outputs": [],
   "source": [
    "# MODEL WITH NO REGULARIZATION\n",
    "\n",
    "import tensorflow as tf\n",
    "from tensorflow.keras.models import Sequential\n",
    "from tensorflow.keras.layers import Dense, InputLayer, Dropout, Conv1D, Conv2D, Flatten, Reshape, MaxPooling1D, MaxPooling2D, BatchNormalization, TimeDistributed\n",
    "from tensorflow.keras.optimizers import Adam\n",
    "\n",
    "# model architecture\n",
    "model = Sequential()\n",
    "model.add(Reshape((int(input_length / 65), 65), input_shape=(input_length, )))\n",
    "model.add(Conv1D(32, kernel_size=3, activation='relu', padding='same'))\n",
    "model.add(MaxPooling1D(pool_size=2, strides=2, padding='same'))\n",
    "model.add(Conv1D(64, kernel_size=3, activation='relu', padding='same'))\n",
    "model.add(MaxPooling1D(pool_size=2, strides=2, padding='same'))\n",
    "model.add(Flatten())\n",
    "model.add(Dropout(0.5))\n",
    "model.add(Dense(classes, activation='softmax', name='y_pred'))\n",
    "model.summary()"
   ]
  },
  {
   "cell_type": "code",
   "execution_count": 13,
   "metadata": {
    "ExecuteTime": {
     "end_time": "2021-11-30T22:54:56.663874Z",
     "start_time": "2021-11-30T22:54:56.658788Z"
    },
    "id": "Bx4_HPXwITnH"
   },
   "outputs": [],
   "source": [
    "LR = 0.0005\n",
    "BS = 32\n",
    "EPOCHS = 100"
   ]
  },
  {
   "cell_type": "code",
   "execution_count": 14,
   "metadata": {
    "ExecuteTime": {
     "end_time": "2021-11-30T22:57:36.801483Z",
     "start_time": "2021-11-30T22:54:57.642609Z"
    },
    "colab": {
     "base_uri": "https://localhost:8080/"
    },
    "id": "nEmoAKgsITnH",
    "outputId": "f7905f18-d1af-4c99-cba3-f16ca2e79ea1"
   },
   "outputs": [
    {
     "name": "stdout",
     "output_type": "stream",
     "text": [
      "Epoch 1/100\n",
      "570/570 - 3s - 5ms/step - accuracy: 0.4483 - loss: 1.8570 - val_accuracy: 0.6277 - val_loss: 0.9890\n",
      "Epoch 2/100\n",
      "570/570 - 2s - 3ms/step - accuracy: 0.6299 - loss: 0.9676 - val_accuracy: 0.7098 - val_loss: 0.7875\n",
      "Epoch 3/100\n",
      "570/570 - 2s - 3ms/step - accuracy: 0.6777 - loss: 0.8463 - val_accuracy: 0.7365 - val_loss: 0.7246\n",
      "Epoch 4/100\n",
      "570/570 - 2s - 3ms/step - accuracy: 0.7056 - loss: 0.7869 - val_accuracy: 0.7605 - val_loss: 0.6577\n",
      "Epoch 5/100\n",
      "570/570 - 2s - 3ms/step - accuracy: 0.7141 - loss: 0.7532 - val_accuracy: 0.7473 - val_loss: 0.6624\n",
      "Epoch 6/100\n",
      "570/570 - 2s - 3ms/step - accuracy: 0.7321 - loss: 0.7173 - val_accuracy: 0.7682 - val_loss: 0.6375\n",
      "Epoch 7/100\n",
      "570/570 - 2s - 3ms/step - accuracy: 0.7417 - loss: 0.6883 - val_accuracy: 0.7888 - val_loss: 0.5989\n",
      "Epoch 8/100\n",
      "570/570 - 2s - 3ms/step - accuracy: 0.7501 - loss: 0.6632 - val_accuracy: 0.7933 - val_loss: 0.5917\n",
      "Epoch 9/100\n",
      "570/570 - 2s - 3ms/step - accuracy: 0.7612 - loss: 0.6402 - val_accuracy: 0.8098 - val_loss: 0.5338\n",
      "Epoch 10/100\n",
      "570/570 - 2s - 3ms/step - accuracy: 0.7674 - loss: 0.6175 - val_accuracy: 0.8102 - val_loss: 0.5356\n",
      "Epoch 11/100\n",
      "570/570 - 2s - 3ms/step - accuracy: 0.7767 - loss: 0.5989 - val_accuracy: 0.8135 - val_loss: 0.5341\n",
      "Epoch 12/100\n",
      "570/570 - 2s - 3ms/step - accuracy: 0.7809 - loss: 0.5854 - val_accuracy: 0.8191 - val_loss: 0.5045\n",
      "Epoch 13/100\n",
      "570/570 - 2s - 3ms/step - accuracy: 0.7923 - loss: 0.5569 - val_accuracy: 0.8348 - val_loss: 0.4876\n",
      "Epoch 14/100\n",
      "570/570 - 2s - 3ms/step - accuracy: 0.7962 - loss: 0.5439 - val_accuracy: 0.8326 - val_loss: 0.4751\n",
      "Epoch 15/100\n",
      "570/570 - 2s - 3ms/step - accuracy: 0.8049 - loss: 0.5236 - val_accuracy: 0.8285 - val_loss: 0.4799\n",
      "Epoch 16/100\n",
      "570/570 - 2s - 3ms/step - accuracy: 0.8168 - loss: 0.5110 - val_accuracy: 0.8300 - val_loss: 0.4746\n",
      "Epoch 17/100\n",
      "570/570 - 2s - 3ms/step - accuracy: 0.8137 - loss: 0.5020 - val_accuracy: 0.8292 - val_loss: 0.4777\n",
      "Epoch 18/100\n",
      "570/570 - 2s - 3ms/step - accuracy: 0.8170 - loss: 0.4912 - val_accuracy: 0.8369 - val_loss: 0.4589\n",
      "Epoch 19/100\n",
      "570/570 - 2s - 3ms/step - accuracy: 0.8204 - loss: 0.4796 - val_accuracy: 0.8406 - val_loss: 0.4448\n",
      "Epoch 20/100\n",
      "570/570 - 2s - 3ms/step - accuracy: 0.8263 - loss: 0.4741 - val_accuracy: 0.8496 - val_loss: 0.4285\n",
      "Epoch 21/100\n",
      "570/570 - 2s - 3ms/step - accuracy: 0.8295 - loss: 0.4633 - val_accuracy: 0.8481 - val_loss: 0.4380\n",
      "Epoch 22/100\n",
      "570/570 - 2s - 3ms/step - accuracy: 0.8330 - loss: 0.4576 - val_accuracy: 0.8549 - val_loss: 0.4185\n",
      "Epoch 23/100\n",
      "570/570 - 2s - 3ms/step - accuracy: 0.8320 - loss: 0.4538 - val_accuracy: 0.8415 - val_loss: 0.4301\n",
      "Epoch 24/100\n",
      "570/570 - 2s - 3ms/step - accuracy: 0.8430 - loss: 0.4326 - val_accuracy: 0.8534 - val_loss: 0.4174\n",
      "Epoch 25/100\n",
      "570/570 - 2s - 3ms/step - accuracy: 0.8444 - loss: 0.4295 - val_accuracy: 0.8552 - val_loss: 0.4078\n",
      "Epoch 26/100\n",
      "570/570 - 2s - 3ms/step - accuracy: 0.8491 - loss: 0.4210 - val_accuracy: 0.8598 - val_loss: 0.3946\n",
      "Epoch 27/100\n",
      "570/570 - 2s - 3ms/step - accuracy: 0.8493 - loss: 0.4135 - val_accuracy: 0.8588 - val_loss: 0.3971\n",
      "Epoch 28/100\n",
      "570/570 - 2s - 3ms/step - accuracy: 0.8484 - loss: 0.4108 - val_accuracy: 0.8638 - val_loss: 0.3845\n",
      "Epoch 29/100\n",
      "570/570 - 2s - 3ms/step - accuracy: 0.8518 - loss: 0.4023 - val_accuracy: 0.8618 - val_loss: 0.3944\n",
      "Epoch 30/100\n",
      "570/570 - 2s - 3ms/step - accuracy: 0.8576 - loss: 0.3942 - val_accuracy: 0.8639 - val_loss: 0.3865\n",
      "Epoch 31/100\n",
      "570/570 - 2s - 3ms/step - accuracy: 0.8620 - loss: 0.3855 - val_accuracy: 0.8656 - val_loss: 0.3858\n",
      "Epoch 32/100\n",
      "570/570 - 2s - 3ms/step - accuracy: 0.8620 - loss: 0.3836 - val_accuracy: 0.8717 - val_loss: 0.3654\n",
      "Epoch 33/100\n",
      "570/570 - 2s - 3ms/step - accuracy: 0.8614 - loss: 0.3836 - val_accuracy: 0.8639 - val_loss: 0.3918\n",
      "Epoch 34/100\n",
      "570/570 - 2s - 3ms/step - accuracy: 0.8655 - loss: 0.3767 - val_accuracy: 0.8705 - val_loss: 0.3709\n",
      "Epoch 35/100\n",
      "570/570 - 2s - 3ms/step - accuracy: 0.8715 - loss: 0.3660 - val_accuracy: 0.8710 - val_loss: 0.3643\n",
      "Epoch 36/100\n",
      "570/570 - 2s - 3ms/step - accuracy: 0.8677 - loss: 0.3688 - val_accuracy: 0.8732 - val_loss: 0.3615\n",
      "Epoch 37/100\n",
      "570/570 - 2s - 3ms/step - accuracy: 0.8695 - loss: 0.3659 - val_accuracy: 0.8664 - val_loss: 0.3822\n",
      "Epoch 38/100\n",
      "570/570 - 2s - 3ms/step - accuracy: 0.8716 - loss: 0.3628 - val_accuracy: 0.8786 - val_loss: 0.3545\n",
      "Epoch 39/100\n",
      "570/570 - 2s - 3ms/step - accuracy: 0.8741 - loss: 0.3550 - val_accuracy: 0.8763 - val_loss: 0.3565\n",
      "Epoch 40/100\n",
      "570/570 - 2s - 3ms/step - accuracy: 0.8743 - loss: 0.3542 - val_accuracy: 0.8788 - val_loss: 0.3480\n",
      "Epoch 41/100\n",
      "570/570 - 2s - 3ms/step - accuracy: 0.8757 - loss: 0.3525 - val_accuracy: 0.8707 - val_loss: 0.3668\n",
      "Epoch 42/100\n",
      "570/570 - 2s - 3ms/step - accuracy: 0.8779 - loss: 0.3508 - val_accuracy: 0.8682 - val_loss: 0.3753\n",
      "Epoch 43/100\n",
      "570/570 - 2s - 3ms/step - accuracy: 0.8799 - loss: 0.3436 - val_accuracy: 0.8689 - val_loss: 0.3674\n",
      "Epoch 44/100\n",
      "570/570 - 2s - 3ms/step - accuracy: 0.8764 - loss: 0.3491 - val_accuracy: 0.8812 - val_loss: 0.3458\n",
      "Epoch 45/100\n",
      "570/570 - 2s - 3ms/step - accuracy: 0.8821 - loss: 0.3374 - val_accuracy: 0.8705 - val_loss: 0.3602\n",
      "Epoch 46/100\n",
      "570/570 - 2s - 3ms/step - accuracy: 0.8796 - loss: 0.3355 - val_accuracy: 0.8730 - val_loss: 0.3629\n",
      "Epoch 47/100\n",
      "570/570 - 2s - 3ms/step - accuracy: 0.8820 - loss: 0.3339 - val_accuracy: 0.8575 - val_loss: 0.3965\n",
      "Epoch 48/100\n",
      "570/570 - 2s - 3ms/step - accuracy: 0.8821 - loss: 0.3381 - val_accuracy: 0.8658 - val_loss: 0.3795\n",
      "Epoch 49/100\n",
      "570/570 - 2s - 3ms/step - accuracy: 0.8848 - loss: 0.3300 - val_accuracy: 0.8789 - val_loss: 0.3552\n",
      "Epoch 50/100\n",
      "570/570 - 2s - 3ms/step - accuracy: 0.8894 - loss: 0.3196 - val_accuracy: 0.8712 - val_loss: 0.3612\n",
      "Epoch 51/100\n",
      "570/570 - 2s - 3ms/step - accuracy: 0.8866 - loss: 0.3273 - val_accuracy: 0.8651 - val_loss: 0.3751\n",
      "Epoch 52/100\n",
      "570/570 - 2s - 3ms/step - accuracy: 0.8847 - loss: 0.3280 - val_accuracy: 0.8773 - val_loss: 0.3540\n",
      "Epoch 53/100\n",
      "570/570 - 2s - 3ms/step - accuracy: 0.8914 - loss: 0.3154 - val_accuracy: 0.8811 - val_loss: 0.3476\n",
      "Epoch 54/100\n",
      "570/570 - 2s - 3ms/step - accuracy: 0.8906 - loss: 0.3206 - val_accuracy: 0.8842 - val_loss: 0.3382\n",
      "Epoch 55/100\n",
      "570/570 - 2s - 3ms/step - accuracy: 0.8873 - loss: 0.3252 - val_accuracy: 0.8809 - val_loss: 0.3493\n",
      "Epoch 56/100\n",
      "570/570 - 2s - 3ms/step - accuracy: 0.8916 - loss: 0.3157 - val_accuracy: 0.8801 - val_loss: 0.3483\n",
      "Epoch 57/100\n",
      "570/570 - 2s - 3ms/step - accuracy: 0.8958 - loss: 0.3100 - val_accuracy: 0.8798 - val_loss: 0.3415\n",
      "Epoch 58/100\n",
      "570/570 - 2s - 3ms/step - accuracy: 0.8941 - loss: 0.3172 - val_accuracy: 0.8679 - val_loss: 0.3743\n",
      "Epoch 59/100\n",
      "570/570 - 2s - 3ms/step - accuracy: 0.8983 - loss: 0.3021 - val_accuracy: 0.8784 - val_loss: 0.3550\n",
      "Epoch 60/100\n",
      "570/570 - 2s - 3ms/step - accuracy: 0.8902 - loss: 0.3126 - val_accuracy: 0.8738 - val_loss: 0.3525\n",
      "Epoch 61/100\n",
      "570/570 - 2s - 3ms/step - accuracy: 0.8971 - loss: 0.3021 - val_accuracy: 0.8868 - val_loss: 0.3429\n",
      "Epoch 62/100\n",
      "570/570 - 2s - 3ms/step - accuracy: 0.8979 - loss: 0.3022 - val_accuracy: 0.8786 - val_loss: 0.3580\n",
      "Epoch 63/100\n",
      "570/570 - 2s - 3ms/step - accuracy: 0.8956 - loss: 0.3025 - val_accuracy: 0.8803 - val_loss: 0.3541\n",
      "Epoch 64/100\n",
      "570/570 - 2s - 3ms/step - accuracy: 0.8987 - loss: 0.2985 - val_accuracy: 0.8631 - val_loss: 0.3893\n",
      "Epoch 64: early stopping\n"
     ]
    }
   ],
   "source": [
    "# this controls the learning rate\n",
    "opt = Adam(learning_rate=LR, beta_1=0.9, beta_2=0.999)\n",
    "# this controls the batch size, or you can manipulate the tf.data.Dataset objects yourself\n",
    "BATCH_SIZE = BS\n",
    "train_dataset = train_dataset.batch(BATCH_SIZE, drop_remainder=False)\n",
    "validation_dataset = validation_dataset.batch(BATCH_SIZE, drop_remainder=False)\n",
    "\n",
    "# train the neural network\n",
    "model.compile(loss='categorical_crossentropy',\n",
    "              optimizer=opt,\n",
    "              metrics=['accuracy'])\n",
    "\n",
    "history = model.fit(train_dataset,\n",
    "                    epochs=EPOCHS,\n",
    "                    validation_data=validation_dataset,\n",
    "                    verbose=2,\n",
    "                    callbacks=callbacks)"
   ]
  },
  {
   "cell_type": "code",
   "execution_count": 15,
   "metadata": {},
   "outputs": [
    {
     "name": "stdout",
     "output_type": "stream",
     "text": [
      "\u001b[1m190/190\u001b[0m \u001b[32m━━━━━━━━━━━━━━━━━━━━\u001b[0m\u001b[37m\u001b[0m \u001b[1m0s\u001b[0m 1ms/step - accuracy: 0.8511 - loss: 0.3912\n",
      "Test accuracy: 0.8569\n"
     ]
    }
   ],
   "source": [
    "# Evaluate the model on the test set\n",
    "test_dataset = test_dataset.batch(BATCH_SIZE, drop_remainder=False)\n",
    "test_loss, test_accuracy = model.evaluate(test_dataset)\n",
    "print(f\"Test accuracy: {test_accuracy:.4f}\")"
   ]
  },
  {
   "cell_type": "code",
   "execution_count": 16,
   "metadata": {
    "ExecuteTime": {
     "end_time": "2021-11-30T22:57:41.031890Z",
     "start_time": "2021-11-30T22:57:41.021671Z"
    },
    "id": "6Ieiaa7EITnH"
   },
   "outputs": [],
   "source": [
    "import matplotlib.pyplot as plt\n",
    "def plot_result(history, res= 'loss'):\n",
    "    plt.plot(history.history[res])\n",
    "    plt.plot(history.history['val_'+res])\n",
    "    plt.title(res+' vs. epochs')\n",
    "    plt.ylabel(res)\n",
    "    plt.xlabel('Epoch')\n",
    "    if res == 'loss':\n",
    "        plt.legend(['Training', res], loc='upper right')\n",
    "    else:\n",
    "        plt.legend(['Training', 'Validation'], loc='lower right')\n",
    "    plt.show()"
   ]
  },
  {
   "cell_type": "code",
   "execution_count": 17,
   "metadata": {
    "ExecuteTime": {
     "end_time": "2021-11-30T22:57:42.090305Z",
     "start_time": "2021-11-30T22:57:41.774989Z"
    },
    "colab": {
     "base_uri": "https://localhost:8080/",
     "height": 572
    },
    "id": "PUA_VIaZITnH",
    "outputId": "7611e74b-83d7-44d7-eb8c-23cad46dcfec"
   },
   "outputs": [
    {
     "data": {
      "image/png": "[encoded data removed]",
      "text/plain": [
       "<Figure size 640x480 with 1 Axes>"
      ]
     },
     "metadata": {},
     "output_type": "display_data"
    },
    {
     "data": {
      "image/png": "[encoded data removed]",
      "text/plain": [
       "<Figure size 640x480 with 1 Axes>"
      ]
     },
     "metadata": {},
     "output_type": "display_data"
    }
   ],
   "source": [
    "plot_result(history, res= 'loss')\n",
    "plot_result(history, res= 'accuracy')"
   ]
  },
  {
   "cell_type": "code",
   "execution_count": 18,
   "metadata": {},
   "outputs": [
    {
     "name": "stdout",
     "output_type": "stream",
     "text": [
      "\u001b[1m190/190\u001b[0m \u001b[32m━━━━━━━━━━━━━━━━━━━━\u001b[0m\u001b[37m\u001b[0m \u001b[1m0s\u001b[0m 2ms/step\n",
      "Accuracy: 0.8569\n",
      "Class 0 - Precision: 0.8092, Recall: 0.7981, F1 Score: 0.8036\n",
      "Class 1 - Precision: 0.8834, Recall: 0.8299, F1 Score: 0.8558\n",
      "Class 2 - Precision: 0.7692, Recall: 0.8258, F1 Score: 0.7965\n",
      "Class 3 - Precision: 0.9927, Recall: 0.9936, F1 Score: 0.9932\n",
      "Class 4 - Precision: 0.9841, Recall: 0.9598, F1 Score: 0.9718\n",
      "\n",
      "Classification Report:\n",
      "\n",
      "                      precision    recall  f1-score   support\n",
      "\n",
      "               aedes       0.81      0.80      0.80      1610\n",
      "anopheles arabiensis       0.88      0.83      0.86      1452\n",
      "   anopheles gambiae       0.77      0.83      0.80      1590\n",
      "               culex       0.99      0.99      0.99      1096\n",
      "               noise       0.98      0.96      0.97       323\n",
      "\n",
      "            accuracy                           0.86      6071\n",
      "           macro avg       0.89      0.88      0.88      6071\n",
      "        weighted avg       0.86      0.86      0.86      6071\n",
      "\n"
     ]
    }
   ],
   "source": [
    "from sklearn.metrics import precision_score, recall_score, f1_score, accuracy_score, classification_report\n",
    "\n",
    "# Assuming X_test and Y_test are your test datasets\n",
    "# Make predictions\n",
    "Y_pred = model.predict(X_test)\n",
    "Y_pred_classes = np.argmax(Y_pred, axis=1)\n",
    "Y_true = np.argmax(Y_test, axis=1)\n",
    "\n",
    "# Calculate precision, recall, and F1 score for each class\n",
    "precision = precision_score(Y_true, Y_pred_classes, average=None)\n",
    "recall = recall_score(Y_true, Y_pred_classes, average=None)\n",
    "f1 = f1_score(Y_true, Y_pred_classes, average=None)\n",
    "accuracy = accuracy_score(Y_true, Y_pred_classes)\n",
    "\n",
    "# Print the results\n",
    "print(f'Accuracy: {accuracy:.4f}')\n",
    "for i, (p, r, f) in enumerate(zip(precision, recall, f1)):\n",
    "    print(f'Class {i} - Precision: {p:.4f}, Recall: {r:.4f}, F1 Score: {f:.4f}')\n",
    "\n",
    "# Alternatively, you can use classification_report for a detailed report\n",
    "print(\"\\nClassification Report:\\n\")\n",
    "print(classification_report(Y_true, Y_pred_classes, target_names=['aedes', 'anopheles arabiensis', 'anopheles gambiae', 'culex', 'noise']))"
   ]
  },
  {
   "cell_type": "code",
   "execution_count": 1,
   "metadata": {
    "ExecuteTime": {
     "end_time": "2021-11-30T21:22:03.272915Z",
     "start_time": "2021-11-30T21:22:03.269221Z"
    },
    "id": "-v2JgmXmITnH"
   },
   "outputs": [
    {
     "ename": "NameError",
     "evalue": "name 'model' is not defined",
     "output_type": "error",
     "traceback": [
      "\u001b[1;31m---------------------------------------------------------------------------\u001b[0m",
      "\u001b[1;31mNameError\u001b[0m                                 Traceback (most recent call last)",
      "Cell \u001b[1;32mIn[1], line 2\u001b[0m\n\u001b[0;32m      1\u001b[0m \u001b[38;5;66;03m# Save the model to disk in HDF5 format\u001b[39;00m\n\u001b[1;32m----> 2\u001b[0m \u001b[43mmodel\u001b[49m\u001b[38;5;241m.\u001b[39msave(\u001b[38;5;124m'\u001b[39m\u001b[38;5;124msaved_model.h5\u001b[39m\u001b[38;5;124m'\u001b[39m)\n",
      "\u001b[1;31mNameError\u001b[0m: name 'model' is not defined"
     ]
    }
   ],
   "source": [
    "# Save the model to disk in HDF5 format\n",
    "model.save('saved_model.h5')"
   ]
  },
  {
   "cell_type": "code",
   "execution_count": 20,
   "metadata": {},
   "outputs": [
    {
     "name": "stderr",
     "output_type": "stream",
     "text": [
      "WARNING:absl:Compiled the loaded model, but the compiled metrics have yet to be built. `model.compile_metrics` will be empty until you train or evaluate the model.\n"
     ]
    }
   ],
   "source": [
    "# Load the model from the HDF5 file\n",
    "model = tf.keras.models.load_model('saved_model.h5')"
   ]
  },
  {
   "cell_type": "code",
   "execution_count": 21,
   "metadata": {},
   "outputs": [
    {
     "name": "stdout",
     "output_type": "stream",
     "text": [
      "INFO:tensorflow:Assets written to: C:\\Users\\nguye\\AppData\\Local\\Temp\\tmpr919h458\\assets\n"
     ]
    },
    {
     "name": "stderr",
     "output_type": "stream",
     "text": [
      "INFO:tensorflow:Assets written to: C:\\Users\\nguye\\AppData\\Local\\Temp\\tmpr919h458\\assets\n"
     ]
    },
    {
     "name": "stdout",
     "output_type": "stream",
     "text": [
      "Saved artifact at 'C:\\Users\\nguye\\AppData\\Local\\Temp\\tmpr919h458'. The following endpoints are available:\n",
      "\n",
      "* Endpoint 'serve'\n",
      "  args_0 (POSITIONAL_ONLY): TensorSpec(shape=(None, 5135), dtype=tf.float32, name='input_layer')\n",
      "Output Type:\n",
      "  TensorSpec(shape=(None, 5), dtype=tf.float32, name=None)\n",
      "Captures:\n",
      "  2286324261200: TensorSpec(shape=(), dtype=tf.resource, name=None)\n",
      "  2286324258704: TensorSpec(shape=(), dtype=tf.resource, name=None)\n",
      "  2286324259088: TensorSpec(shape=(), dtype=tf.resource, name=None)\n",
      "  2286324257360: TensorSpec(shape=(), dtype=tf.resource, name=None)\n",
      "  2286324259280: TensorSpec(shape=(), dtype=tf.resource, name=None)\n",
      "  2286324259472: TensorSpec(shape=(), dtype=tf.resource, name=None)\n",
      "  2286324260816: TensorSpec(shape=(), dtype=tf.resource, name=None)\n",
      "  2286324264464: TensorSpec(shape=(), dtype=tf.resource, name=None)\n"
     ]
    }
   ],
   "source": [
    "# Convert the model to TensorFlow Lite format\n",
    "converter = tf.lite.TFLiteConverter.from_keras_model(model)\n",
    "tflite_model = converter.convert()\n",
    "\n",
    "# Save the TensorFlow Lite model to disk\n",
    "with open('model.tflite', 'wb') as f:\n",
    "    f.write(tflite_model)"
   ]
  }
 ],
 "metadata": {
  "colab": {
   "collapsed_sections": [],
   "name": "20_ei-ictp_mosquito_wingbeat_sound_classification_tinyml-nn-classifier.ipynb",
   "provenance": []
  },
  "hide_input": false,
  "kernelspec": {
   "display_name": "Python 3",
   "name": "python3"
  },
  "language_info": {
   "codemirror_mode": {
    "name": "ipython",
    "version": 3
   },
   "file_extension": ".py",
   "mimetype": "text/x-python",
   "name": "python",
   "nbconvert_exporter": "python",
   "pygments_lexer": "ipython3",
   "version": "3.12.7"
  },
  "nbTranslate": {
   "displayLangs": [
    "*"
   ],
   "hotkey": "alt-t",
   "langInMainMenu": true,
   "sourceLang": "en",
   "targetLang": "fr",
   "useGoogleTranslate": true
  },
  "toc": {
   "base_numbering": 1,
   "nav_menu": {},
   "number_sections": true,
   "sideBar": true,
   "skip_h1_title": true,
   "title_cell": "Table of Contents",
   "title_sidebar": "Contents",
   "toc_cell": false,
   "toc_position": {},
   "toc_section_display": true,
   "toc_window_display": true
  },
  "varInspector": {
   "cols": {
    "lenName": 16,
    "lenType": 16,
    "lenVar": 40
   },
   "kernels_config": {
    "python": {
     "delete_cmd_postfix": "",
     "delete_cmd_prefix": "del ",
     "library": "var_list.py",
     "varRefreshCmd": "print(var_dic_list())"
    },
    "r": {
     "delete_cmd_postfix": ") ",
     "delete_cmd_prefix": "rm(",
     "library": "var_list.r",
     "varRefreshCmd": "cat(var_dic_list()) "
    }
   },
   "types_to_exclude": [
    "module",
    "function",
    "builtin_function_or_method",
    "instance",
    "_Feature"
   ],
   "window_display": false
  }
 },
 "nbformat": 4,
 "nbformat_minor": 0
}
