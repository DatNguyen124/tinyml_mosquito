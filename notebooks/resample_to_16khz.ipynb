{
  "cells": [
    {
      "cell_type": "code",
      "execution_count": null,
      "metadata": {
        "colab": {
          "base_uri": "https://localhost:8080/"
        },
        "collapsed": true,
        "id": "Ctd6OWxu7ACt",
        "outputId": "4874204c-6445-4306-a590-8f759f4e8105"
      },
      "outputs": [
        {
          "name": "stdout",
          "output_type": "stream",
          "text": [
            "Collecting pydub\n",
            "  Downloading pydub-0.25.1-py2.py3-none-any.whl.metadata (1.4 kB)\n",
            "Downloading pydub-0.25.1-py2.py3-none-any.whl (32 kB)\n",
            "Installing collected packages: pydub\n",
            "Successfully installed pydub-0.25.1\n"
          ]
        }
      ],
      "source": [
        "%pip install pydub"
      ]
    },
    {
      "cell_type": "code",
      "execution_count": null,
      "metadata": {
        "id": "cjSOkEGV818l"
      },
      "outputs": [],
      "source": [
        "import os\n",
        "os.chdir('/content/drive/MyDrive/Mosquito')  # Replace with your desired path"
      ]
    },
    {
      "cell_type": "code",
      "execution_count": null,
      "metadata": {
        "colab": {
          "base_uri": "https://localhost:8080/"
        },
        "id": "6d67M2Am6iR8",
        "outputId": "7e6096d7-e0b1-40b2-fc25-bef47ca78fd9"
      },
      "outputs": [
        {
          "name": "stdout",
          "output_type": "stream",
          "text": [
            "Drive already mounted at /content/drive; to attempt to forcibly remount, call drive.mount(\"/content/drive\", force_remount=True).\n",
            "Processing: /content/drive/MyDrive/Mosquito/C. quinquefasciatus/Cxq 4.wav\n",
            "Saved: /content/drive/MyDrive/Mosquito/C. quinquefasciatus/output/0_Cxq 4.wav\n",
            "Saved: /content/drive/MyDrive/Mosquito/C. quinquefasciatus/output/1_Cxq 4.wav\n",
            "Processing: /content/drive/MyDrive/Mosquito/C. quinquefasciatus/Cxq 3.wav\n",
            "Saved: /content/drive/MyDrive/Mosquito/C. quinquefasciatus/output/0_Cxq 3.wav\n",
            "Saved: /content/drive/MyDrive/Mosquito/C. quinquefasciatus/output/1_Cxq 3.wav\n",
            "Processing: /content/drive/MyDrive/Mosquito/C. quinquefasciatus/Cxq 2.wav\n",
            "Saved: /content/drive/MyDrive/Mosquito/C. quinquefasciatus/output/0_Cxq 2.wav\n",
            "Saved: /content/drive/MyDrive/Mosquito/C. quinquefasciatus/output/1_Cxq 2.wav\n",
            "Processing: /content/drive/MyDrive/Mosquito/C. quinquefasciatus/Cxq 1.wav\n",
            "Saved: /content/drive/MyDrive/Mosquito/C. quinquefasciatus/output/0_Cxq 1.wav\n",
            "Saved: /content/drive/MyDrive/Mosquito/C. quinquefasciatus/output/1_Cxq 1.wav\n",
            "Processing: /content/drive/MyDrive/Mosquito/C. quinquefasciatus/Q7.wav\n",
            "Saved: /content/drive/MyDrive/Mosquito/C. quinquefasciatus/output/0_Q7.wav\n",
            "Processing: /content/drive/MyDrive/Mosquito/C. quinquefasciatus/Q6.wav\n",
            "Saved: /content/drive/MyDrive/Mosquito/C. quinquefasciatus/output/0_Q6.wav\n",
            "Processing: /content/drive/MyDrive/Mosquito/C. quinquefasciatus/Q5.wav\n",
            "Saved: /content/drive/MyDrive/Mosquito/C. quinquefasciatus/output/0_Q5.wav\n",
            "Saved: /content/drive/MyDrive/Mosquito/C. quinquefasciatus/output/1_Q5.wav\n",
            "Processing: /content/drive/MyDrive/Mosquito/C. quinquefasciatus/Q4.wav\n",
            "Saved: /content/drive/MyDrive/Mosquito/C. quinquefasciatus/output/0_Q4.wav\n",
            "Processing: /content/drive/MyDrive/Mosquito/C. quinquefasciatus/Q3.wav\n",
            "Saved: /content/drive/MyDrive/Mosquito/C. quinquefasciatus/output/0_Q3.wav\n",
            "Saved: /content/drive/MyDrive/Mosquito/C. quinquefasciatus/output/1_Q3.wav\n",
            "Processing: /content/drive/MyDrive/Mosquito/C. quinquefasciatus/Q2.wav\n",
            "Saved: /content/drive/MyDrive/Mosquito/C. quinquefasciatus/output/0_Q2.wav\n",
            "Processing: /content/drive/MyDrive/Mosquito/C. quinquefasciatus/Q1.wav\n",
            "Saved: /content/drive/MyDrive/Mosquito/C. quinquefasciatus/output/0_Q1.wav\n",
            "Processing: /content/drive/MyDrive/Mosquito/C. quinquefasciatus/Q8.wav\n",
            "Saved: /content/drive/MyDrive/Mosquito/C. quinquefasciatus/output/0_Q8.wav\n",
            "All files have been saved to the output folder: /content/drive/MyDrive/Mosquito/C. quinquefasciatus/output\n"
          ]
        }
      ],
      "source": [
        "from pydub import AudioSegment\n",
        "import os\n",
        "\n",
        "def split_audio(file_path, output_folder):\n",
        "    # Load the audio file\n",
        "    audio = AudioSegment.from_wav(file_path)\n",
        "\n",
        "    # Get the file's base name\n",
        "    base_name = os.path.basename(file_path).rsplit(\".\", 1)[0]\n",
        "\n",
        "    # Duration of the audio in milliseconds\n",
        "    duration_ms = len(audio)\n",
        "\n",
        "    # 1 minute in milliseconds\n",
        "    one_minute_ms = 60 * 1000\n",
        "\n",
        "    # Calculate the number of full 1-minute chunks\n",
        "    num_chunks = duration_ms // one_minute_ms\n",
        "\n",
        "    # Process full 1-minute chunks\n",
        "    for i in range(num_chunks):\n",
        "        chunk = audio[i * one_minute_ms: (i + 1) * one_minute_ms]\n",
        "        new_file_name = f\"{i}_{base_name}.wav\"\n",
        "        new_file_path = os.path.join(output_folder, new_file_name)\n",
        "        chunk.export(new_file_path, format=\"wav\")\n",
        "        print(f\"Saved: {new_file_path}\")\n",
        "\n",
        "    # Process remaining audio if it's less than 1 minute\n",
        "    remaining_audio_start = num_chunks * one_minute_ms\n",
        "    if remaining_audio_start < duration_ms:\n",
        "        chunk = audio[remaining_audio_start:]\n",
        "        new_file_name = f\"{num_chunks}_{base_name}.wav\"\n",
        "        new_file_path = os.path.join(output_folder, new_file_name)\n",
        "        chunk.export(new_file_path, format=\"wav\")\n",
        "        print(f\"Saved: {new_file_path}\")\n",
        "\n",
        "def process_folder(folder_path):\n",
        "    # Create the output folder inside the specified folder\n",
        "    output_folder = os.path.join(folder_path, \"output\")\n",
        "    os.makedirs(output_folder, exist_ok=True)\n",
        "\n",
        "    # Get all .wav files in the folder\n",
        "    file_paths = [os.path.join(folder_path, f) for f in os.listdir(folder_path) if f.endswith('.wav')]\n",
        "\n",
        "    if not file_paths:\n",
        "        print(\"No .wav files found in the folder.\")\n",
        "        return\n",
        "\n",
        "    # Process each .wav file\n",
        "    for file_path in file_paths:\n",
        "        print(f\"Processing: {file_path}\")\n",
        "        split_audio(file_path, output_folder)\n",
        "    print(f\"All files have been saved to the output folder: {output_folder}\")\n",
        "\n",
        "# Example usage\n",
        "# Specify the folder in your Google Drive where .wav files are located\n",
        "drive_folder_path = \"/content/drive/MyDrive/Mosquito/C. quinquefasciatus\"  # Replace with your folder path\n",
        "process_folder(drive_folder_path)\n"
      ]
    }
  ],
  "metadata": {
    "colab": {
      "provenance": []
    },
    "kernelspec": {
      "display_name": "Python 3",
      "name": "python3"
    },
    "language_info": {
      "name": "python"
    }
  },
  "nbformat": 4,
  "nbformat_minor": 0
}
